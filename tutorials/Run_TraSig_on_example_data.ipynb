{
 "cells": [
  {
   "cell_type": "markdown",
   "metadata": {},
   "source": [
    "# Get started \n",
    "\n",
    "In this tutorial, we will run TraSig on the example data (and trajectory). We will then analyze TraSig's inference results, including calculating the summary interaction score for cell cluster (type) pairs and conducting GO enrichment analysis on the significant ligands and receptors. \n",
    "\n",
    "Alternatively, you may run the script analyze_outputs.py to analyze the outputs from TraSig, after you finish running TraSig using the command-line tool. By running this script, you can obtain all analysis outputs, except for the GO enrichment analysis results. Please refer to [Obtain the analysis results using the command-line tool](#2.1) and **Command-line tools** session in README.md for more details.\n",
    "\n",
    "\n",
    "**Table of Content**\n",
    "1. [Run TraSig on the example data](#1)  \n",
    "2. [Analyze TraSig results](#2) \n",
    "    1. [(optional) Obtain the analysis results using the command-line tool](#2.1) \n",
    "    2. [Load inputs](#2.2) \n",
    "    3. [Load outputs](#2.3)  \n",
    "    4. [Adjust p-values for multiple comparisons](#2.4) \n",
    "    5. [Infer interactions among cell clusters (edges)](#2.5) \n",
    "    6. [Go analysis](#2.6)  \n",
    "\n",
    "**Extra Package Requirements**   \n",
    "(all packages below should already be installed when installing TraSig)\n",
    "* statsmodels >= 0.12.1 (required for post-analysis only)\n",
    "* scipy >= 1.5.4 (required for post-analysis only)\n",
    "* matplotlib >= 3.3.4 (required for post-analysis only)\n",
    "* seaborn >= 0.11.0 (required for post-analysis only)"
   ]
  },
  {
   "cell_type": "code",
   "execution_count": 1,
   "metadata": {},
   "outputs": [],
   "source": [
    "import pickle\n",
    "import sys\n",
    "import os\n",
    "import gc\n",
    "\n",
    "import numpy as np\n",
    "import bottleneck as bn\n",
    "import pandas as pd\n",
    "\n",
    "# load packages required for analysis \n",
    "import statsmodels.api as sm\n",
    "import statsmodels as sm\n",
    "import matplotlib\n",
    "import matplotlib.pyplot as plt\n",
    "import seaborn as sns\n",
    "from scipy import stats"
   ]
  },
  {
   "cell_type": "markdown",
   "metadata": {},
   "source": [
    "# 1. Run TraSig on the example data\n",
    "<a id=1></a>\n",
    "\n",
    "1. The inputs are prepared following the Prepare_input_from_dynverse_ti_methods.ipynb tutorial.\n",
    "2. For the following demo, we run 1e5 permutations using multiprocessing with 8 cores. "
   ]
  },
  {
   "cell_type": "code",
   "execution_count": 2,
   "metadata": {},
   "outputs": [
    {
     "name": "stdout",
     "output_type": "stream",
     "text": [
      "Namespace(input='../example/input', listType='ligand_receptor', metric='dot', modelName='ti_slingshot', multiProcess=True, nLap=20, nan2zero=True, ncores='8', numPerms='100000', output='../example/output', preprocess='None', project='oligodendrocyte-differentiation-clusters_marques', startingTreatment='smallerWindow')\n",
      "Load:  oligodendrocyte-differentiation-clusters_marques_lr.txt\n",
      "Permutations grouped to different cores: [range(1, 14286), range(14286, 28571), range(28571, 42856), range(42856, 57141), range(57141, 71426), range(71426, 85711), range(85711, 99996), range(99996, 100001)]\n",
      "CPU times: user 35 s, sys: 4.64 s, total: 39.6 s\n",
      "Wall time: 44min 5s\n"
     ]
    }
   ],
   "source": [
    "%time ! main.py -i ../example/input -o ../example/output -d oligodendrocyte-differentiation-clusters_marques -g None -b ti_slingshot -c 8 -n 100000 -s smallerWindow"
   ]
  },
  {
   "cell_type": "markdown",
   "metadata": {},
   "source": [
    "# 2. Analyze TraSig results\n",
    "<a id=2></a>"
   ]
  },
  {
   "cell_type": "markdown",
   "metadata": {},
   "source": [
    "## 2.1 (Optional) Obtain the analysis results using the command-line tool\n",
    "<a id=2.1></a>\n",
    "* You can run the following script to obtain all analysis outputs, except for the GO analysis results.\n",
    "* Alternatively, you may follow the break-downs starting from [Load inputs](#2.2) to obtain the analysis outputs."
   ]
  },
  {
   "cell_type": "code",
   "execution_count": 4,
   "metadata": {},
   "outputs": [
    {
     "name": "stdout",
     "output_type": "stream",
     "text": [
      "Namespace(input='../example/input', listType='ligand_receptor', metric='dot', modelName='ti_slingshot', nLap=20, nan2zero=True, numPerms='100000', otherIdentifier='None', output='../example/output', preprocess='None', project='oligodendrocyte-differentiation-clusters_marques', startingTreatment='smallerWindow')\n",
      "Load:  oligodendrocyte-differentiation-clusters_marques_lr.txt\n",
      "Analysis outputs to be saved to ../example/output/analysis\n",
      "CPU times: user 38.7 ms, sys: 10.5 ms, total: 49.2 ms\n",
      "Wall time: 1.98 s\n"
     ]
    }
   ],
   "source": [
    "%time ! python analyze_outputs.py -i ../example/input -o ../example/output -d oligodendrocyte-differentiation-clusters_marques -g None -b ti_slingshot -e None -n 100000 -s smallerWindow"
   ]
  },
  {
   "cell_type": "markdown",
   "metadata": {},
   "source": [
    "## 2.2 Load inputs\n",
    "<a id=2.2></a>\n",
    "\n",
    "* May need to modify the following variables based on your inputs and arguments for TraSig"
   ]
  },
  {
   "cell_type": "code",
   "execution_count": 2,
   "metadata": {},
   "outputs": [],
   "source": [
    "project = \"oligodendrocyte-differentiation-clusters_marques\"\n",
    "preprocess = \"\"\n",
    "model_name = \"ti_slingshot\"\n",
    "others = \"\"\n",
    "list_type = 'ligand_receptor'\n",
    "startingTreatment = \"smallerWindow\"\n",
    "\n",
    "n_lap = 20 # smoothing window size \n",
    "metrics = ['dot']\n",
    "nan2zero = True\n",
    "num_perms = 1e5\n",
    "\n",
    "# set the path to TraSig's inputs \n",
    "input_path = '../example/input'\n",
    "# set the path to TraSig's outputs; \n",
    "# the analysis outpus will be saved at output_path/analysis\n",
    "output_path = '../example/output'  "
   ]
  },
  {
   "cell_type": "markdown",
   "metadata": {},
   "source": [
    "##### Load TraSig's inputs."
   ]
  },
  {
   "cell_type": "code",
   "execution_count": 3,
   "metadata": {},
   "outputs": [
    {
     "name": "stdout",
     "output_type": "stream",
     "text": [
      "Load:  oligodendrocyte-differentiation-clusters_marques_lr.txt\n"
     ]
    }
   ],
   "source": [
    "if preprocess != \"\":\n",
    "    _preprocess = f\"_{preprocess}\"\n",
    "else:\n",
    "    _preprocess = \"\"\n",
    "    \n",
    "if startingTreatment != \"None\":\n",
    "    _startingTreatment = f\"_{startingTreatment}\"\n",
    "else:\n",
    "    _startingTreatment = \"\"\n",
    "\n",
    "suffix = f\"{project}_{list_type}{_preprocess}_{model_name}\"\n",
    "suffix = f\"{suffix}{_startingTreatment}_nlap_{n_lap}{others}\"\n",
    "child_suffix = f\"{suffix}_{metrics[0]}_{int(np.log10(num_perms))}\"\n",
    "\n",
    "# get interaction file (list of (ligand, receptor/target))\n",
    "filename = f\"{list_type}_{project}{_preprocess}.pickle\"\n",
    "with open(os.path.join(input_path, filename), 'rb') as handle:\n",
    "    interaction_list = pickle.load(handle)\n",
    "\n",
    "  \n",
    "# load expression data\n",
    "filename = f\"{project}{_preprocess}_lr.txt\"\n",
    "print(\"Load: \", filename)\n",
    "\n",
    "data_file = os.path.join(input_path, filename)\n",
    "df = pd.read_csv(data_file, index_col=0)\n",
    "cell_exps = df.values\n",
    "gene_names = list(df.columns.values)  # assume unique\n",
    "\n",
    "\n",
    "# (optional) load corresponding between sampling time and path\n",
    "filename = f\"sampling_time_per_path_{project}{_preprocess}_{model_name}.pickle\"\n",
    "with open(os.path.join(input_path, filename), 'rb') as handle:\n",
    "    time2path = pickle.load(handle)\n",
    "\n",
    "path2time = dict()\n",
    "for k, ps in time2path.items():\n",
    "    for p in ps:\n",
    "        path2time[p] = k\n",
    "\n",
    "        \n",
    "# load path & time assignment\n",
    "# original assignment\n",
    "hid_var_file = f\"{project}{_preprocess}_{model_name}_it2_hid_var.pickle\"\n",
    "with open(os.path.join(input_path, hid_var_file), 'rb') as handle:\n",
    "    hid_var = pickle.load(handle, encoding=\"latin1\")\n",
    "\n",
    "unique_paths = np.unique(hid_var[\"cell_path\"])\n",
    "all_times = [round(i, 2) for i in np.arange(0, 1.01, 0.01)]  # all possible labels for cell time\n",
    "cell_paths_o = hid_var[\"cell_path\"]\n",
    "cell_times_o = hid_var[\"cell_time\"]\n"
   ]
  },
  {
   "cell_type": "markdown",
   "metadata": {},
   "source": [
    "## 2.3 Load outputs\n",
    "<a id=2.3></a>"
   ]
  },
  {
   "cell_type": "code",
   "execution_count": 4,
   "metadata": {},
   "outputs": [],
   "source": [
    "# load the scores on the observed original data \n",
    "_n = 0\n",
    "\n",
    "_columns = dict.fromkeys(metrics)\n",
    "for m in metrics:\n",
    "    _columns[m] = []\n",
    "\n",
    "_columns.update({'pair': [], 'gene_pair_id': []})\n",
    "\n",
    "# load results  \n",
    "filename = f\"{suffix}_metrics_{_n}.pickle\"\n",
    "data_file = os.path.join(output_path, filename)\n",
    "\n",
    "with open(data_file, 'rb') as handle:\n",
    "    results = pickle.load(handle)\n",
    "\n",
    "for pair, mets in results.items():\n",
    "    for m in metrics:\n",
    "        _columns[m] += list(mets[m])\n",
    "\n",
    "    _columns['pair'] += list(np.repeat(pair, len(mets[m])))\n",
    "    _columns['gene_pair_id'] += list(range(len(mets[m])))\n",
    "    \n",
    "df = pd.DataFrame(_columns)\n",
    "num_pairs = len(results[pair][m])\n",
    "\n",
    "\n",
    "# load permutation results  \n",
    "filename = f\"{suffix}_permutation_results.pickle\"\n",
    "data_file = os.path.join(output_path, filename)\n",
    "\n",
    "with open(data_file, 'rb') as handle:\n",
    "    pair2counts = pickle.load(handle)\n",
    "\n",
    "    \n",
    "# turn to p-values\n",
    "for pair, _ in pair2counts.items():\n",
    "    for m in metrics:\n",
    "         pair2counts[pair][m] = (pair2counts[pair][m] + 1)/(num_perms + 1)\n",
    "\n",
    "            \n",
    "# add to the dataframe            \n",
    "_columns = dict.fromkeys(metrics)\n",
    "for m in metrics:\n",
    "    _columns[m] = []\n",
    "\n",
    "for pair, counts in pair2counts.items():\n",
    "    for m in metrics:\n",
    "        _columns[m] += list(counts[m])\n",
    "        \n",
    "for m in metrics:\n",
    "    df[f\"{m}_p\"] = _columns[m]"
   ]
  },
  {
   "cell_type": "code",
   "execution_count": 5,
   "metadata": {},
   "outputs": [],
   "source": [
    "# add ligand target info\n",
    "df['ligand'] = [interaction_list[int(i)][0] for i in df['gene_pair_id']]\n",
    "df['target'] = [interaction_list[int(i)][1] for i in df['gene_pair_id']]\n",
    "ligand_list = np.unique(df['ligand'])\n",
    "\n",
    "# add more info about cell clusters \n",
    "df['sender'] = [i.split('_')[0] for i in df['pair']]\n",
    "df['receiver'] = [i.split('_')[1] for i in df['pair']]\n",
    "df['sender'] = df['sender'].astype('int')\n",
    "df['receiver'] = df['receiver'].astype('int')\n",
    "df['time-sender'] = [path2time[i] for i in df['sender']]\n",
    "df['time-receiver'] = [path2time[i] for i in df['receiver']]"
   ]
  },
  {
   "cell_type": "markdown",
   "metadata": {},
   "source": [
    "#### label clusters using the true labels of the majority of cells (for plotting)"
   ]
  },
  {
   "cell_type": "code",
   "execution_count": 6,
   "metadata": {},
   "outputs": [
    {
     "name": "stdout",
     "output_type": "stream",
     "text": [
      "------current path 0\n",
      "MOL 0.72\n",
      "0.97\n",
      "------current path 1\n",
      "NFOL 0.75\n",
      "0.92\n",
      "------current path 2\n",
      "MOL 1.0\n",
      "------current path 3\n",
      "MOL 1.0\n"
     ]
    }
   ],
   "source": [
    "# build path2 label\n",
    "\n",
    "unique_days = np.unique(hid_var['cell_labels'])\n",
    "cell_paths = np.unique(hid_var[\"cell_path\"])\n",
    "\n",
    "_dict = dict.fromkeys(range(len(cell_paths)))  \n",
    "\n",
    "for i, cur_path in enumerate(cell_paths):\n",
    "    print(\"------current path\", cur_path)\n",
    "    \n",
    "    # get data corresponding to a path\n",
    "    condition = hid_var[\"cell_path\"] == cur_path\n",
    "    cur_labels = hid_var['cell_labels'][condition]\n",
    "    try:\n",
    "        cur_labels = [i.decode('UTF-8') for i in cur_labels]\n",
    "    except AttributeError:\n",
    "        pass \n",
    "    \n",
    "    # get the sampling time for the majority cells \n",
    "    mode, count = stats.mode(cur_labels)\n",
    "    \n",
    "    major_percent = round(float(count[0])/len(cur_labels), 2)\n",
    "    print(mode[0], major_percent)\n",
    "    \n",
    "    cur_label = mode[0]\n",
    "    \n",
    "    # add more labels if cells of the major cell type make less than 90% of the whole population \n",
    "    if  major_percent < 0.9:\n",
    "        cur_label += '(' + str(major_percent) + ')'\n",
    "        \n",
    "        labels, counts = np.unique(cur_labels, return_counts=True)\n",
    "        sorted_counts, idxs = np.unique(counts, return_index=True)\n",
    "       #  print(zip(sorted_counts, labels[idxs]))\n",
    "        \n",
    "        count = 0\n",
    "        while major_percent < 0.9:\n",
    "            # add more labels until major_percent >= 0.9\n",
    "            add_counts = sorted_counts[::-1][1+count]\n",
    "            _add_percent = round(add_counts/len(cur_labels), 2)\n",
    "    \n",
    "            major_percent += _add_percent\n",
    "            print(major_percent)\n",
    "            \n",
    "            cur_label += '\\n '\n",
    "            cur_label += labels[idxs][::-1][1+count]\n",
    "            cur_label += '(' + str(round(_add_percent, 2)) + ')'\n",
    "            \n",
    "            count += 1\n",
    "    \n",
    "    _dict[cur_path] = cur_label\n",
    "    \n",
    "path2label = _dict"
   ]
  },
  {
   "cell_type": "markdown",
   "metadata": {},
   "source": [
    "## 2.4 Adjust p-values for multiple comparisons\n",
    "<a id=2.4></a>\n",
    "\n",
    "Here we use the BH procedure to control the FDR rate."
   ]
  },
  {
   "cell_type": "code",
   "execution_count": 7,
   "metadata": {
    "scrolled": true
   },
   "outputs": [],
   "source": [
    "_p = df['dot_p'].values.copy()\n",
    "\n",
    "for pair in results.keys(): \n",
    "    condition = np.where(df['pair'] == pair)[0]\n",
    "    adjusted = sm.stats.multitest.fdrcorrection(df['dot_p'].values[condition])\n",
    "    _p[condition] = adjusted[1]"
   ]
  },
  {
   "cell_type": "code",
   "execution_count": 8,
   "metadata": {},
   "outputs": [],
   "source": [
    "df['dot_p_adjusted'] = _p"
   ]
  },
  {
   "cell_type": "code",
   "execution_count": 9,
   "metadata": {},
   "outputs": [
    {
     "data": {
      "text/html": [
       "<div>\n",
       "<style scoped>\n",
       "    .dataframe tbody tr th:only-of-type {\n",
       "        vertical-align: middle;\n",
       "    }\n",
       "\n",
       "    .dataframe tbody tr th {\n",
       "        vertical-align: top;\n",
       "    }\n",
       "\n",
       "    .dataframe thead th {\n",
       "        text-align: right;\n",
       "    }\n",
       "</style>\n",
       "<table border=\"1\" class=\"dataframe\">\n",
       "  <thead>\n",
       "    <tr style=\"text-align: right;\">\n",
       "      <th></th>\n",
       "      <th>pair</th>\n",
       "      <th>sender</th>\n",
       "      <th>receiver</th>\n",
       "      <th>time-sender</th>\n",
       "      <th>time-receiver</th>\n",
       "      <th>gene_pair_id</th>\n",
       "      <th>ligand</th>\n",
       "      <th>target</th>\n",
       "      <th>dot</th>\n",
       "      <th>dot_p</th>\n",
       "      <th>dot_p_adjusted</th>\n",
       "    </tr>\n",
       "  </thead>\n",
       "  <tbody>\n",
       "    <tr>\n",
       "      <th>0</th>\n",
       "      <td>0_0</td>\n",
       "      <td>0</td>\n",
       "      <td>0</td>\n",
       "      <td>0</td>\n",
       "      <td>0</td>\n",
       "      <td>0</td>\n",
       "      <td>ADAM17</td>\n",
       "      <td>NOTCH1</td>\n",
       "      <td>0.242648</td>\n",
       "      <td>0.000680</td>\n",
       "      <td>0.001587</td>\n",
       "    </tr>\n",
       "    <tr>\n",
       "      <th>1</th>\n",
       "      <td>0_0</td>\n",
       "      <td>0</td>\n",
       "      <td>0</td>\n",
       "      <td>0</td>\n",
       "      <td>0</td>\n",
       "      <td>1</td>\n",
       "      <td>AGRN</td>\n",
       "      <td>ATP1A3</td>\n",
       "      <td>0.668552</td>\n",
       "      <td>0.000120</td>\n",
       "      <td>0.000931</td>\n",
       "    </tr>\n",
       "    <tr>\n",
       "      <th>2</th>\n",
       "      <td>0_0</td>\n",
       "      <td>0</td>\n",
       "      <td>0</td>\n",
       "      <td>0</td>\n",
       "      <td>0</td>\n",
       "      <td>2</td>\n",
       "      <td>AGRP</td>\n",
       "      <td>SDC3</td>\n",
       "      <td>0.008098</td>\n",
       "      <td>0.005690</td>\n",
       "      <td>0.012122</td>\n",
       "    </tr>\n",
       "    <tr>\n",
       "      <th>3</th>\n",
       "      <td>0_0</td>\n",
       "      <td>0</td>\n",
       "      <td>0</td>\n",
       "      <td>0</td>\n",
       "      <td>0</td>\n",
       "      <td>3</td>\n",
       "      <td>APOE</td>\n",
       "      <td>LRP1</td>\n",
       "      <td>1.583651</td>\n",
       "      <td>0.000050</td>\n",
       "      <td>0.000931</td>\n",
       "    </tr>\n",
       "    <tr>\n",
       "      <th>4</th>\n",
       "      <td>0_0</td>\n",
       "      <td>0</td>\n",
       "      <td>0</td>\n",
       "      <td>0</td>\n",
       "      <td>0</td>\n",
       "      <td>4</td>\n",
       "      <td>APOE</td>\n",
       "      <td>SORL1</td>\n",
       "      <td>0.200087</td>\n",
       "      <td>0.171918</td>\n",
       "      <td>0.210600</td>\n",
       "    </tr>\n",
       "  </tbody>\n",
       "</table>\n",
       "</div>"
      ],
      "text/plain": [
       "  pair  sender  receiver  time-sender  time-receiver  gene_pair_id  ligand  \\\n",
       "0  0_0       0         0            0              0             0  ADAM17   \n",
       "1  0_0       0         0            0              0             1    AGRN   \n",
       "2  0_0       0         0            0              0             2    AGRP   \n",
       "3  0_0       0         0            0              0             3    APOE   \n",
       "4  0_0       0         0            0              0             4    APOE   \n",
       "\n",
       "   target       dot     dot_p  dot_p_adjusted  \n",
       "0  NOTCH1  0.242648  0.000680        0.001587  \n",
       "1  ATP1A3  0.668552  0.000120        0.000931  \n",
       "2    SDC3  0.008098  0.005690        0.012122  \n",
       "3    LRP1  1.583651  0.000050        0.000931  \n",
       "4   SORL1  0.200087  0.171918        0.210600  "
      ]
     },
     "execution_count": 9,
     "metadata": {},
     "output_type": "execute_result"
    }
   ],
   "source": [
    "columns = ['pair','sender', 'receiver', 'time-sender', 'time-receiver', 'gene_pair_id', \n",
    "           'ligand', 'target', 'dot', 'dot_p', 'dot_p_adjusted']\n",
    "\n",
    "df[columns].head()"
   ]
  },
  {
   "cell_type": "markdown",
   "metadata": {},
   "source": [
    "## 2.5 Infer interactions among cell clusters (edges)\n",
    "<a id=2.5></a>\n",
    "\n",
    "For each cluster pair, using the results for ligand-receptors, we infer the overall interacting score by counting how many of the ligand-receptors are significant. "
   ]
  },
  {
   "cell_type": "code",
   "execution_count": 10,
   "metadata": {},
   "outputs": [],
   "source": [
    "# reset output path to save analysis results\n",
    "output_path = f\"{output_path}/analysis\"\n",
    "\n",
    "if not os.path.exists(output_path):\n",
    "    os.makedirs(output_path)"
   ]
  },
  {
   "cell_type": "markdown",
   "metadata": {},
   "source": [
    "### Calculate summary score over all ligand-receptor pairs "
   ]
  },
  {
   "cell_type": "code",
   "execution_count": 11,
   "metadata": {},
   "outputs": [],
   "source": [
    "df_pool = pd.DataFrame(list(set(df['pair'])))\n",
    "df_pool.columns = ['pair']\n",
    "\n",
    "df_pool['sender'] = [i.split('_')[0] for i in df_pool['pair']]\n",
    "df_pool['receiver'] = [i.split('_')[1] for i in df_pool['pair']]\n",
    "df_pool['sender'] = df_pool['sender'].astype('int')\n",
    "df_pool['receiver'] = df_pool['receiver'].astype('int')\n",
    "df_pool['time-sender'] = [path2time[i] for i in df_pool['sender']]\n",
    "df_pool['time-receiver'] = [path2time[i] for i in df_pool['receiver']]\n",
    "# df_pool = df_pool[df_pool['time-sender'] == df_pool['time-receiver']]  # if only keep pairs sampled at the same time"
   ]
  },
  {
   "cell_type": "code",
   "execution_count": 12,
   "metadata": {},
   "outputs": [],
   "source": [
    "cutoff =  0.05\n",
    "name_p = 'dot_p_adjusted'\n",
    "\n",
    "_counts = []\n",
    "for p in df_pool['pair']:\n",
    "    condition = df['pair'] == p\n",
    "    _counts.append((df[condition][name_p] < cutoff).sum())\n",
    "    \n",
    "df_pool['counts'] = _counts\n",
    "\n",
    "# subset only contains significant pairs\n",
    "condition = df[name_p] < cutoff\n",
    "df_sig = df[condition].copy()\n",
    "df_sig.reset_index(inplace=True)"
   ]
  },
  {
   "cell_type": "code",
   "execution_count": 13,
   "metadata": {},
   "outputs": [],
   "source": [
    "# order clusters (edges / paths) by sampling time \n",
    "path_order_time = []\n",
    "for k,v in time2path.items():\n",
    "    path_order_time = path_order_time + v\n",
    "\n",
    "df_pool['sender'] =  pd.Categorical(df_pool['sender'], path_order_time)\n",
    "df_pool['receiver'] =  pd.Categorical(df_pool['receiver'], path_order_time)\n",
    "df_pool.sort_values(['sender','receiver'],inplace=True)"
   ]
  },
  {
   "cell_type": "code",
   "execution_count": 14,
   "metadata": {},
   "outputs": [],
   "source": [
    "_vmin = min(df_pool['counts'])\n",
    "_vmax = max(df_pool['counts'])"
   ]
  },
  {
   "cell_type": "code",
   "execution_count": 15,
   "metadata": {},
   "outputs": [
    {
     "data": {
      "image/png": "[encoded data removed]",
      "text/plain": [
       "<Figure size 360x360 with 2 Axes>"
      ]
     },
     "metadata": {
      "needs_background": "light"
     },
     "output_type": "display_data"
    }
   ],
   "source": [
    "method = \"TraSig\"\n",
    "metric = 'counts'\n",
    "\n",
    "_center_value = _vmin\n",
    "# plot only pairs sampled at the same time \n",
    "df_plot = df_pool[df_pool['time-sender'] == df_pool['time-receiver']].pivot(index='sender', columns='receiver', values=metric)\n",
    "\n",
    "# sort by column names\n",
    "df_plot = df_plot.sort_index(axis=1)\n",
    "\n",
    "# sns.set_style(\"white\")\n",
    "plt.figure(figsize=(5, 5))\n",
    "sns.set_context(\"paper\", font_scale=2) \n",
    "\n",
    "ax = sns.heatmap(df_plot.values, xticklabels=True, yticklabels=True, \n",
    "                 vmin = _vmin, vmax = _vmax, center = _center_value, cmap = \"RdBu_r\")\n",
    "plt.xticks(rotation=90)\n",
    "plt.ylabel(\"Sender\")\n",
    "plt.xlabel('Receiver')\n",
    "ax.set_xticklabels(df_plot.index.values)\n",
    "ax.set_yticklabels(df_plot.index.values)\n",
    "\n",
    "if 'tf' in model_name:\n",
    "    _traj = 'CSHMM'\n",
    "    plt.title(f\"{method} using \\n output from {_traj}\")\n",
    "else:\n",
    "    _traj = model_name.split('_')[1].capitalize()\n",
    "    plt.title(f\"{method} using \\n output from {_traj}\")\n",
    "\n",
    "filename = f\"{child_suffix}_summary_scores.png\"\n",
    "plt.savefig(os.path.join(output_path, filename), bbox_inches = \"tight\", dpi=300, format = \"png\")\n",
    "filename = f\"{child_suffix}_summary_scores.eps\"\n",
    "plt.savefig(os.path.join(output_path, filename), bbox_inches = \"tight\", dpi=300, format = \"eps\")"
   ]
  },
  {
   "cell_type": "markdown",
   "metadata": {},
   "source": [
    "##### save summary score "
   ]
  },
  {
   "cell_type": "code",
   "execution_count": 16,
   "metadata": {},
   "outputs": [],
   "source": [
    "df_pool['sender-label'] = df_pool['sender'].replace(path2label)\n",
    "df_pool['receiver-label'] = df_pool['receiver'].replace(path2label)\n",
    "\n",
    "cols_order = ['sender','sender-label','receiver','receiver-label', 'counts']\n",
    "df_out = df_pool[cols_order].copy()\n",
    "\n",
    "filename = f\"{child_suffix}_summary_score.csv\"\n",
    "df_out.to_csv(os.path.join(output_path, filename), index=False)"
   ]
  },
  {
   "cell_type": "markdown",
   "metadata": {},
   "source": [
    "### save significant ligand-receptor pairs"
   ]
  },
  {
   "cell_type": "code",
   "execution_count": 17,
   "metadata": {},
   "outputs": [],
   "source": [
    "df_sig['sender-label'] = df_sig['sender'].replace(path2label)\n",
    "df_sig['receiver-label'] = df_sig['receiver'].replace(path2label)\n",
    "\n",
    "# sort ligand-receptors in each cluster pair by their scores \n",
    "_dfs =[] \n",
    "pairs_ts = np.unique(df_sig['pair'])\n",
    "for pair in pairs_ts:\n",
    "    condition = df_sig['pair'] == pair\n",
    "    _dfs.append(df_sig[condition].sort_values('dot', ascending=False))\n",
    "    \n",
    "df_sorted = pd.concat(_dfs)\n",
    "cols_order = ['pair', 'time-sender','sender','sender-label','time-receiver', 'receiver','receiver-label', 'ligand', 'target', \\\n",
    "              'dot', 'dot_p', 'dot_p_adjusted']\n",
    "df_sorted = df_sorted[cols_order]\n",
    "\n",
    "\n",
    "df_sorted.columns = ['interaction pair' ,'sender sampling time', 'sender','sender-label','receiver sampling time','receiver','receiver-label', 'ligand', 'target', \n",
    "                   'score', 'score p-value', 'score p-value adjusted']\n",
    "\n",
    "filename = f\"{child_suffix}_significant_pairs.csv\"\n",
    "df_sorted.to_csv(os.path.join(output_path, filename), index=False)"
   ]
  },
  {
   "cell_type": "markdown",
   "metadata": {},
   "source": [
    "## 2.6 GO enrichment analysis\n",
    "<a id=2.6></a>\n",
    "\n",
    "For selected cluster pairs, we use the significant ligands and receptors to conduct GO enrichment analysis. Here we use the analysis on all interactions acting on either cluster 0 or 1 as an example. "
   ]
  },
  {
   "cell_type": "code",
   "execution_count": 18,
   "metadata": {},
   "outputs": [],
   "source": [
    "# select interacting pairs for GO analysis\n",
    "pairs_dict = {\"0\": [\"0_0\", \"1_0\", \"2_0\", \"3_0\"], \"1\": [\"0_1\", \"1_1\", \"2_1\", \"3_1\"]}\n",
    "\n",
    "# create the varaible with both ligand and receptor name \n",
    "df_sig['lr'] = [f\"{df_sig['ligand'][i]}_{df_sig['target'][i]}\"for i in range(df_sig.shape[0])]"
   ]
  },
  {
   "cell_type": "markdown",
   "metadata": {},
   "source": [
    "### Get enriched GO terms using gProfiler"
   ]
  },
  {
   "cell_type": "code",
   "execution_count": 19,
   "metadata": {},
   "outputs": [],
   "source": [
    "import requests\n",
    "\n",
    "def getGO(input_genes, out_file_name=None, save2file=False):\n",
    "    \"\"\"\n",
    "    Modified based on output analysis in CSHMM.\n",
    "    \n",
    "    Author: Chieh Lin\n",
    "    Link to original code: https://github.com/jessica1338/CSHMM-for-time-series-scRNA-Seq/blob/master/CSHMM_analysis.py\n",
    "    \n",
    "    \"\"\"\n",
    "\n",
    "    r = requests.post(\n",
    "            url = 'https://biit.cs.ut.ee/gprofiler/api/gost/profile/',\n",
    "            json = {\n",
    "                'organism':species,\n",
    "                'query':list(input_genes),\n",
    "                }\n",
    "        )\n",
    "\n",
    "\n",
    "    if \"result\" not in r.json():\n",
    "        return \n",
    "\n",
    "    res = r.json()['result']\n",
    "    if len(res) > 0:\n",
    "        columns = res[0].keys()\n",
    "        out_df = pd.DataFrame()\n",
    "        for col in columns:\n",
    "            if col == \"intersections\":\n",
    "                continue\n",
    "            tmp = [r[col] for r in res]\n",
    "            out_df[col] = tmp\n",
    "            \n",
    "        if save2file and out_file_name is not None: \n",
    "            out_df.to_csv(out_file_name, sep=\"\\t\", index=False, encoding=\"utf-8\")\n",
    "            \n",
    "        return out_df"
   ]
  },
  {
   "cell_type": "code",
   "execution_count": 20,
   "metadata": {},
   "outputs": [],
   "source": [
    "# a helper function\n",
    "flatten = lambda t: [item for sublist in t for item in sublist]"
   ]
  },
  {
   "cell_type": "code",
   "execution_count": 22,
   "metadata": {},
   "outputs": [
    {
     "name": "stdout",
     "output_type": "stream",
     "text": [
      "Number of genes used for searching for 0_0: 37\n",
      "Number of genes used for searching for 1_0: 41\n",
      "Number of genes used for searching for 2_0: 24\n",
      "Number of genes used for searching for 3_0: 41\n",
      "Number of genes used for searching for 0_1: 39\n",
      "Number of genes used for searching for 1_1: 36\n",
      "Number of genes used for searching for 2_1: 27\n",
      "Number of genes used for searching for 3_1: 36\n"
     ]
    }
   ],
   "source": [
    "species = \"mmusculus\"\n",
    "# species = \"hsapiens\"\n",
    "read_saved = False\n",
    "\n",
    "go_results = dict.fromkeys(pairs_dict.keys())\n",
    "\n",
    "for cur_cell_type in [\"0\", \"1\"]:\n",
    "    all_pairs = pairs_dict[cur_cell_type]\n",
    "    \n",
    "    all_out_dfs = []\n",
    "    for i in range(len(all_pairs)):\n",
    "        pair = all_pairs[i]\n",
    "\n",
    "        filename = f\"GO_{pair}_{child_suffix}.csv\"\n",
    "        directory = f\"{output_path}/GO_analysis\"\n",
    "        if not os.path.exists(directory):\n",
    "            os.makedirs(directory)\n",
    "\n",
    "        out_file_name = f\"{directory}/{filename}\"\n",
    "\n",
    "        if read_saved:\n",
    "            out_df = pd.read_csv(out_file_name, sep='\\t')\n",
    "        else:\n",
    "            _lrs_tg = set(df_sig[df_sig['pair'] == pair]['lr'].values)\n",
    "            _lrs_flat_tg = set(flatten([i.split(\"_\") for i in _lrs_tg]))\n",
    "            input_genes = list(_lrs_flat_tg)\n",
    "\n",
    "            print(f\"Number of genes used for searching for {pair}: {len(input_genes)}\")\n",
    "\n",
    "            out_df = getGO(input_genes, out_file_name=out_file_name, save2file=True)\n",
    "\n",
    "        if out_df is not None:\n",
    "            all_out_dfs.append(out_df)\n",
    "            \n",
    "    go_results[cur_cell_type] = all_out_dfs"
   ]
  },
  {
   "cell_type": "markdown",
   "metadata": {},
   "source": [
    "### analysis on enrichment results"
   ]
  },
  {
   "cell_type": "code",
   "execution_count": 23,
   "metadata": {},
   "outputs": [],
   "source": [
    "def findGOterms(keywords,goprofile_results,all_pairs):\n",
    "    _terms = []\n",
    "    used_keywords = []\n",
    "    \n",
    "    for k in range(len(all_pairs)):\n",
    "        try:\n",
    "            for i in goprofile_results[k]['name']:\n",
    "                for j in keywords:\n",
    "                    if j in i.split(' '):\n",
    "                        _terms.append(i)\n",
    "                        used_keywords.append(j)\n",
    "        except IndexError:\n",
    "            continue\n",
    "            \n",
    "    _terms = list(np.unique(_terms))\n",
    "    \n",
    "    return _terms, used_keywords"
   ]
  },
  {
   "cell_type": "code",
   "execution_count": 24,
   "metadata": {},
   "outputs": [],
   "source": [
    "all_dev_terms = []\n",
    "\n",
    "for cur_go_results_name, cur_go_results  in go_results.items():\n",
    "    \n",
    "    # find development related terms\n",
    "    keywords = ['Development','development','regeneration','morphogenesis', 'formation', \"differentiation\",\n",
    "               \"migration\", 'localization', 'locomotion', 'motility', 'movement', 'developmental', 'multicellular']\n",
    "    results, used_dev = findGOterms(keywords, cur_go_results, all_pairs)\n",
    "    all_dev_terms += results \n"
   ]
  },
  {
   "cell_type": "code",
   "execution_count": 25,
   "metadata": {},
   "outputs": [],
   "source": [
    "terms_sets = {'development':np.unique(all_dev_terms)}"
   ]
  },
  {
   "cell_type": "markdown",
   "metadata": {},
   "source": [
    "#### plot GO analysis results for selected terms"
   ]
  },
  {
   "cell_type": "code",
   "execution_count": 26,
   "metadata": {},
   "outputs": [],
   "source": [
    "cur_go_names = 'development'\n",
    "cur_go_terms = terms_sets[cur_go_names]"
   ]
  },
  {
   "cell_type": "code",
   "execution_count": 27,
   "metadata": {},
   "outputs": [],
   "source": [
    "_max = 0\n",
    "_min = 1e2"
   ]
  },
  {
   "cell_type": "code",
   "execution_count": 28,
   "metadata": {},
   "outputs": [],
   "source": [
    "df_plots = dict.fromkeys(go_results.keys())"
   ]
  },
  {
   "cell_type": "code",
   "execution_count": 29,
   "metadata": {},
   "outputs": [],
   "source": [
    "for cur_go_results_name, cur_go_results  in go_results.items():\n",
    "    _ps = []\n",
    "    _terms = []\n",
    "    _pairs = []\n",
    "    \n",
    "    all_pairs = pairs_dict[cur_go_results_name]\n",
    "    \n",
    "    for _term in cur_go_terms:\n",
    "        for i in range(len(all_pairs)):\n",
    "            pair = all_pairs[i]\n",
    "            cur_df = cur_go_results[i]\n",
    "\n",
    "            if _term in cur_df['name'].values:\n",
    "                _p = cur_df['p_value'][cur_df['name'] == _term].values[0]\n",
    "            else: \n",
    "                _p = np.nan\n",
    "\n",
    "            _ps.append(_p)\n",
    "            _terms.append(_term)\n",
    "            _pairs.append(pair)\n",
    "            \n",
    "    df_summary = pd.DataFrame([_pairs,_terms,_ps]).T\n",
    "    \n",
    "    df_summary.columns = ['interacting pair', 'GO term', 'p-value']\n",
    "    df_summary['log10p'] = - np.log10(df_summary['p-value'].astype('float').values)\n",
    "    \n",
    "    df_summary.sort_values('GO term', inplace=True)\n",
    "    df_plot = df_summary.pivot(index='GO term', columns='interacting pair', values='log10p')\n",
    "    \n",
    "    if df_summary['log10p'].max() > _max:\n",
    "        _max = df_summary['log10p'].max()\n",
    "    \n",
    "    if df_summary['log10p'].min() < _min:\n",
    "        _min = df_summary['log10p'].min()\n",
    "    \n",
    "    df_plots[cur_go_results_name] = df_plot[all_pairs]\n",
    "   "
   ]
  },
  {
   "cell_type": "markdown",
   "metadata": {},
   "source": [
    "##### filter to display only highly significant ones\n",
    "1. keep terms with minimum p-value among all interacting pairs below some cutoff"
   ]
  },
  {
   "cell_type": "code",
   "execution_count": 30,
   "metadata": {},
   "outputs": [],
   "source": [
    "def convert2p(vals):\n",
    "    \"\"\"\n",
    "    Convert -log10(p) back to p.\n",
    "    \"\"\"\n",
    "    return np.power(10, -vals)"
   ]
  },
  {
   "cell_type": "code",
   "execution_count": 31,
   "metadata": {},
   "outputs": [],
   "source": [
    "results = []\n",
    "\n",
    "for k, v in df_plots.items():\n",
    "    results.append(v)"
   ]
  },
  {
   "cell_type": "code",
   "execution_count": 32,
   "metadata": {},
   "outputs": [],
   "source": [
    "temp = pd.concat(results, axis=1)\n",
    "temp['GO'] = temp.index\n",
    "_max_all_methods = temp.max(axis=1)"
   ]
  },
  {
   "cell_type": "code",
   "execution_count": 33,
   "metadata": {},
   "outputs": [
    {
     "name": "stdout",
     "output_type": "stream",
     "text": [
      "Cutoff p-value: 2.152599861968056e-12\n"
     ]
    }
   ],
   "source": [
    "cutoff = np.quantile(_max_all_methods, 0.9)\n",
    "print(f\"Cutoff p-value: {convert2p(cutoff)}\")"
   ]
  },
  {
   "cell_type": "code",
   "execution_count": 34,
   "metadata": {},
   "outputs": [],
   "source": [
    "# filter GO terms \n",
    "cur_go_terms = temp['GO'][_max_all_methods > cutoff].values"
   ]
  },
  {
   "cell_type": "code",
   "execution_count": 35,
   "metadata": {},
   "outputs": [],
   "source": [
    "df_plots = dict.fromkeys(go_results.keys())"
   ]
  },
  {
   "cell_type": "code",
   "execution_count": 36,
   "metadata": {},
   "outputs": [],
   "source": [
    "_max = 0\n",
    "_min = 1e2"
   ]
  },
  {
   "cell_type": "code",
   "execution_count": 37,
   "metadata": {},
   "outputs": [],
   "source": [
    "for cur_go_results_name, cur_go_results  in go_results.items():\n",
    "    _ps = []\n",
    "    _terms = []\n",
    "    _pairs = []\n",
    "    \n",
    "    all_pairs = pairs_dict[cur_go_results_name]\n",
    "    \n",
    "    for _term in cur_go_terms:\n",
    "        for i in range(len(all_pairs)):\n",
    "            pair = all_pairs[i]\n",
    "            cur_df = cur_go_results[i]\n",
    "\n",
    "            if _term in cur_df['name'].values:\n",
    "                _p = cur_df['p_value'][cur_df['name'] == _term].values[0]\n",
    "            else: \n",
    "                _p = np.nan\n",
    "\n",
    "            _ps.append(_p)\n",
    "            _terms.append(_term)\n",
    "            _pairs.append(pair)\n",
    "            \n",
    "    df_summary = pd.DataFrame([_pairs,_terms,_ps]).T\n",
    "    \n",
    "    df_summary.columns = ['interacting pair', 'GO term', 'p-value']\n",
    "    df_summary['log10p'] = - np.log10(df_summary['p-value'].astype('float').values)\n",
    "    \n",
    "    df_summary.sort_values('GO term', inplace=True)\n",
    "    df_plot = df_summary.pivot(index='GO term', columns='interacting pair', values='log10p')\n",
    "    \n",
    "    if df_summary['log10p'].max() > _max:\n",
    "        _max = df_summary['log10p'].max()\n",
    "    \n",
    "    if df_summary['log10p'].min() < _min:\n",
    "        _min = df_summary['log10p'].min()\n",
    "    \n",
    "    df_plots[cur_go_results_name] = df_plot[all_pairs]\n",
    "   "
   ]
  },
  {
   "cell_type": "code",
   "execution_count": 38,
   "metadata": {},
   "outputs": [],
   "source": [
    "df_plots_names = list(df_plots.keys())"
   ]
  },
  {
   "cell_type": "code",
   "execution_count": 39,
   "metadata": {},
   "outputs": [],
   "source": [
    "_vmin = _min\n",
    "_vmax = _max"
   ]
  },
  {
   "cell_type": "code",
   "execution_count": 40,
   "metadata": {},
   "outputs": [
    {
     "data": {
      "image/png": "[encoded data removed]",
      "text/plain": [
       "<Figure size 864x648 with 3 Axes>"
      ]
     },
     "metadata": {
      "needs_background": "light"
     },
     "output_type": "display_data"
    }
   ],
   "source": [
    "portrait = False\n",
    "cmaps = [\"RdBu_r\",'PiYG', 'PRGn', 'BrBG', 'PuOr', 'RdGy', 'RdBu',\n",
    "            'RdYlBu', 'RdYlGn', 'Spectral', 'coolwarm', 'bwr', 'seismic']\n",
    "palettes = cmaps[0]\n",
    "\n",
    "sns.set_context(\"paper\", font_scale=2) \n",
    "\n",
    "SMALL_SIZE = 12\n",
    "MEDIUM_SIZE = 18\n",
    "BIGGER_SIZE = 20\n",
    "\n",
    "rotation_r = 0\n",
    "rotation_c = 45\n",
    "\n",
    "if portrait:\n",
    "    fig, axes = plt.subplots(2,1,figsize=(10,17), gridspec_kw={'height_ratios': [1,1]})  # portrait \n",
    "else:\n",
    "    fig, axes = plt.subplots(1,2,figsize=(12, 9), gridspec_kw={'width_ratios': [1,1.3]})\n",
    "\n",
    "\n",
    "for i in range(len(df_plots_names)):\n",
    "    ax = axes[i]\n",
    "    \n",
    "    _name = df_plots_names[i]\n",
    "    \n",
    "    if portrait:\n",
    "        df_plot = df_plots[_name].T\n",
    "    else:\n",
    "        df_plot = df_plots[_name]\n",
    "    \n",
    "    if portrait == True:\n",
    "        cbar = True\n",
    "    else:\n",
    "        if i == len(df_plots_names) - 1:\n",
    "            cbar = True\n",
    "        else:\n",
    "            cbar = False\n",
    "\n",
    "    sns.heatmap(df_plot, xticklabels=True, yticklabels=True,\n",
    "                         ax = ax, vmax=_vmax, vmin=_vmin, cbar=cbar,center=0,cmap=palettes)\n",
    "    \n",
    "    if portrait:\n",
    "        ax.set_xlabel('')\n",
    "        if i != 2:\n",
    "            ax.xaxis.set_major_locator(plt.NullLocator())\n",
    "        else:\n",
    "            ax.set_xticklabels(ax.get_xticklabels(), rotation=rotation_c, horizontalalignment='right')\n",
    "            \n",
    "        ax.set_yticklabels(ax.get_yticklabels(), rotation=rotation_r, horizontalalignment='right')\n",
    "\n",
    "    else:\n",
    "        ax.set_ylabel('')\n",
    "        if i != 0:\n",
    "            ax.yaxis.set_major_locator(plt.NullLocator())\n",
    "        else:\n",
    "            ax.set_yticklabels(ax.get_yticklabels(), rotation=0, horizontalalignment='right')\n",
    "            \n",
    "        ax.set_xticklabels(ax.get_xticklabels(), rotation=rotation_c, horizontalalignment='right')\n",
    "        \n",
    "    if i != 1:\n",
    "        ax.set_xlabel('') \n",
    "\n",
    "fig.tight_layout(pad=0.01)\n",
    " \n",
    "for i in range(len(df_plots_names)):\n",
    "    _name= path2label[int(df_plots_names[i])]\n",
    "    ax_main = axes[i]\n",
    "    \n",
    "    bbox = ax_main.get_window_extent().transformed(fig.dpi_scale_trans.inverted())\n",
    "    width, height = bbox.width, bbox.height\n",
    "    if portrait:\n",
    "        text = ax_main.text(width+27.7, 3, _name, size=SMALL_SIZE, horizontalalignment = 'left',\n",
    "                       verticalalignment='top', rotation=270)   \n",
    "    else:\n",
    "        text = ax_main.text(width/2 - 1,  -1.5, _name, size=SMALL_SIZE, horizontalalignment = 'left',\n",
    "                       verticalalignment='top', rotation=0)\n",
    "    \n",
    "\n",
    "filename = f\"GO_summary_log10p_{child_suffix}_{cur_go_names}.png\"\n",
    "plt.savefig(os.path.join(output_path, filename),dpi=300, bbox_inches = \"tight\", format='png')\n",
    "\n",
    "filename = f\"GO_summary_log10p_{child_suffix}_{cur_go_names}.eps\"\n",
    "plt.savefig(os.path.join(output_path, filename), bbox_inches = \"tight\", dpi=300,  format='eps')\n",
    "plt.show()\n",
    "plt.close()"
   ]
  }
 ],
 "metadata": {
  "kernelspec": {
   "display_name": "Python [conda env:testing]",
   "language": "python",
   "name": "conda-env-testing-py"
  },
  "language_info": {
   "codemirror_mode": {
    "name": "ipython",
    "version": 3
   },
   "file_extension": ".py",
   "mimetype": "text/x-python",
   "name": "python",
   "nbconvert_exporter": "python",
   "pygments_lexer": "ipython3",
   "version": "3.6.13"
  }
 },
 "nbformat": 4,
 "nbformat_minor": 2
}
