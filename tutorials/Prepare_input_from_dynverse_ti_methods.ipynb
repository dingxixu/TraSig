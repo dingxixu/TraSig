{
 "cells": [
  {
   "cell_type": "code",
   "execution_count": 1,
   "metadata": {},
   "outputs": [],
   "source": [
    "import os, sys\n",
    "import argparse\n",
    "import time\n",
    "from os.path import exists\n",
    "import collections\n",
    "from typing import Iterable\n",
    "import pickle\n",
    "from collections import Counter\n",
    "\n",
    "import torch\n",
    "import scanpy as sc\n",
    "import pandas as pd\n",
    "import seaborn as sns\n",
    "import numpy as np\n",
    "from matplotlib import pyplot as plt"
   ]
  },
  {
   "cell_type": "code",
   "execution_count": 2,
   "metadata": {
    "scrolled": true
   },
   "outputs": [],
   "source": [
    "data_meta = pd.read_csv(f\"meta_real_datasets.csv\")"
   ]
  },
  {
   "cell_type": "code",
   "execution_count": 3,
   "metadata": {},
   "outputs": [],
   "source": [
    "parent_folder = \"output/benchmark\""
   ]
  },
  {
   "cell_type": "code",
   "execution_count": 4,
   "metadata": {},
   "outputs": [],
   "source": [
    "import rpy2.robjects as robject\n",
    "datasets = robject.r(r'''\n",
    "\n",
    "setwd(\"./\")\n",
    "datasets <- list.files('all_data/real')\n",
    "datasets''')\n",
    "\n",
    "datasets = list(datasets)"
   ]
  },
  {
   "cell_type": "markdown",
   "metadata": {},
   "source": [
    "# Load trajectory result"
   ]
  },
  {
   "cell_type": "code",
   "execution_count": 5,
   "metadata": {},
   "outputs": [],
   "source": [
    "import h5py"
   ]
  },
  {
   "cell_type": "code",
   "execution_count": 7,
   "metadata": {},
   "outputs": [],
   "source": [
    "_idx = 61"
   ]
  },
  {
   "cell_type": "markdown",
   "metadata": {},
   "source": [
    "## load expression "
   ]
  },
  {
   "cell_type": "code",
   "execution_count": 8,
   "metadata": {},
   "outputs": [],
   "source": [
    "# load true \n",
    "filename = datasets[_idx]\n",
    "project = filename.split('.')[0]\n",
    "filepath = f\"all_data/real/{filename}\"\n",
    "\n",
    "import rpy2.robjects as robjects\n",
    "from rpy2.robjects import pandas2ri\n",
    "pandas2ri.activate()\n",
    "\n",
    "readRDS = robjects.r['readRDS']\n",
    "df = readRDS(filepath)\n",
    "# df = pandas2ri.rpy2py_dataframe(df)\n",
    "data_keys = list(df.names)\n",
    "\n",
    "cell_ids = df[data_keys.index('cell_ids')]\n",
    "expression = df[data_keys.index('expression')]  # log 2 transformed counts \n",
    "genes = df[data_keys.index('feature_info')]['feature_id'].values\n",
    "\n",
    "N = len(cell_ids)\n",
    "G = len(genes)\n",
    "z_dim = 30\n",
    "\n",
    "# expression all > 0, log() transformed? and before normalized? \n",
    "assert expression[np.where(expression < 0)].shape[0] == 0\n",
    "\n",
    "# true trajectory\n",
    "milestones_true = df[data_keys.index('milestone_ids')]\n",
    "network_true = df[data_keys.index('milestone_network')]\n",
    "# update parameters for the model \n",
    "M_true = len(milestones_true)\n",
    "\n",
    "# add node index; node index consistent with index in 'milestone_ids'\n",
    "# will use node index to present node from now on\n",
    "network_true['idx_from'] = [list(milestones_true).index(i) for i in network_true['from']]\n",
    "network_true['idx_to'] = [list(milestones_true).index(i) for i in network_true['to']]\n",
    "edges_true = network_true[['idx_from','idx_to']].values\n",
    "_nodes_no_to = list(set(range(M_true)) - set(edges_true[:, 1]))\n",
    "# root_true = _nodes_no_to[0]\n",
    "\n",
    "# TBD: group_ids different from milestone_ids? \n",
    "\n",
    "# assignment = df[_keys.index('cell_info')]  # only equal for ground truth membership ? \n",
    "membership_true = df[data_keys.index('milestone_percentages')] \n",
    "# from membership probability get assignment of cells to nodes\n",
    "assignment_true = membership_true[membership_true.groupby(['cell_id'])['percentage'].transform(max) == membership_true['percentage']]\n",
    "assignment_true.set_index('cell_id', inplace=True)\n",
    "assignment_true = assignment_true.reindex(cell_ids)\n",
    "clusters_true = [list(milestones_true).index(c) for c in assignment_true['milestone_id'].values]"
   ]
  },
  {
   "cell_type": "markdown",
   "metadata": {},
   "source": [
    "## load estimated trajectory models"
   ]
  },
  {
   "cell_type": "code",
   "execution_count": 227,
   "metadata": {},
   "outputs": [],
   "source": [
    "sub_models = ['ti_monocle3_reg', 'ti_slingshot_reg'] "
   ]
  },
  {
   "cell_type": "code",
   "execution_count": 228,
   "metadata": {},
   "outputs": [],
   "source": [
    "df_percentages = []\n",
    "df_progressions = []\n",
    "df_networks = []\n",
    "df_clusters = []\n",
    "_missing = []"
   ]
  },
  {
   "cell_type": "code",
   "execution_count": 229,
   "metadata": {
    "scrolled": true
   },
   "outputs": [
    {
     "name": "stdout",
     "output_type": "stream",
     "text": [
      "22: real 7; bifurcation  272; ti_monocle3_reg: 6\n",
      "22: real 7; bifurcation  272; ti_slingshot_reg: 4\n"
     ]
    }
   ],
   "source": [
    "for _idx in [_idx]:\n",
    "    for _model in sub_models: \n",
    "        filename = f\"output/benchmark/{_model}/output_{_idx}.h5\"\n",
    "        \n",
    "        try:\n",
    "            f = h5py.File(filename, 'r')\n",
    "\n",
    "            # for key in f.keys():\n",
    "            #     print(key) \n",
    "\n",
    "            key = 'data'\n",
    "\n",
    "            #Get the HDF5 group\n",
    "            group = f[key]\n",
    "\n",
    "            # #Checkout what keys are inside that group.\n",
    "            # for key in group.keys():\n",
    "            #     print(key)\n",
    "\n",
    "            _percentages = group['milestone_percentages']\n",
    "            _network = group['milestone_network']\n",
    "            _progressions = group['progressions']\n",
    "\n",
    "            #  data.keys()\n",
    "            #  data['data'].keys()\n",
    "            cur_meta = data_meta.loc[_idx, :]\n",
    "            print(f\"{_idx}: real {cur_meta['n_milestones']}; {cur_meta['trajectory_type']}  {cur_meta['n_cells']}; {_model}: {len(set(list(_percentages['data']['milestone_id'])))}\")\n",
    "\n",
    "            _cell_ids = list(_percentages['data']['cell_id'])\n",
    "            _cell_ids = [i.decode('utf-8') for i in _cell_ids]\n",
    "            estimated_percentages = pd.DataFrame(zip(_cell_ids, list(_percentages['data']['milestone_id']), list(_percentages['data']['percentage'])))\n",
    "            estimated_percentages.columns = ['cell_id', 'milestone_id', 'percentage']\n",
    "\n",
    "            _cell_ids = list(_progressions['data']['cell_id'])\n",
    "            _cell_ids = [i.decode('utf-8') for i in _cell_ids]\n",
    "            estimated_progressions = pd.DataFrame(zip(_cell_ids, list(_progressions['data']['from']), list(_progressions['data']['to']), list(_progressions['data']['percentage'])))\n",
    "            estimated_progressions.columns = ['cell_id', 'from', 'to' ,'percentage']\n",
    "\n",
    "            estimated_network = pd.DataFrame(pd.DataFrame(zip(list(_network['data']['from']), list(_network['data']['to']), list(_network['data']['length']))))\n",
    "            estimated_clusters = estimated_percentages.loc[estimated_percentages.groupby([\"cell_id\"])[\"percentage\"].idxmax()].set_index('cell_id') .reindex(cell_ids)\n",
    "            estimated_clusters['milestone_id'] = [_c.decode(\"utf-8\") for _c in estimated_clusters['milestone_id']]\n",
    "\n",
    "            df_percentages.append(estimated_percentages)\n",
    "            df_progressions.append(estimated_progressions)\n",
    "            df_networks.append(estimated_network)\n",
    "            df_clusters.append(estimated_clusters)\n",
    "        \n",
    "        except OSError:\n",
    "            print(_model)\n",
    "            _missing.append(_model)\n",
    "        "
   ]
  },
  {
   "cell_type": "code",
   "execution_count": 230,
   "metadata": {},
   "outputs": [],
   "source": [
    "sub_models_fil = sub_models.copy()"
   ]
  },
  {
   "cell_type": "code",
   "execution_count": 231,
   "metadata": {},
   "outputs": [],
   "source": [
    "for i in _missing:\n",
    "    sub_models_fil.remove(i)"
   ]
  },
  {
   "cell_type": "markdown",
   "metadata": {},
   "source": [
    "# Exploring results"
   ]
  },
  {
   "cell_type": "code",
   "execution_count": 232,
   "metadata": {},
   "outputs": [],
   "source": [
    "# sub_metrics = metrics[metrics['data'] == _idx]"
   ]
  },
  {
   "cell_type": "code",
   "execution_count": 233,
   "metadata": {},
   "outputs": [],
   "source": [
    "from sklearn.metrics.cluster import adjusted_rand_score\n",
    "from sklearn.metrics import f1_score\n",
    "from sklearn.preprocessing import LabelEncoder  "
   ]
  },
  {
   "cell_type": "code",
   "execution_count": 234,
   "metadata": {},
   "outputs": [
    {
     "name": "stdout",
     "output_type": "stream",
     "text": [
      "ti_monocle3_reg ARI: 0.26745799857297486, F1: [0.46601942 0.         0.05405405 0.07142857 0.075      0.\n",
      " 0.        ]\n",
      "ti_slingshot_reg ARI: 0.14896307542798196, F1: [0.19480519 0.35820896 0.         0.04705882 0.         0.\n",
      " 0.        ]\n"
     ]
    }
   ],
   "source": [
    "for i in range(len(df_percentages)):\n",
    "    _model = sub_models_fil[i]\n",
    "    \n",
    "    estimated_clusters = df_clusters[i]\n",
    "    clusters_estimated = estimated_clusters['milestone_id'].values\n",
    "    le = LabelEncoder()\n",
    "    clusters_estimated = le.fit_transform(clusters_estimated)\n",
    "\n",
    "    _ari = adjusted_rand_score(clusters_true, clusters_estimated)\n",
    "    _f1_score = f1_score(clusters_true, clusters_estimated, average = None)\n",
    "    print(f\"{_model} ARI: {_ari}, F1: {_f1_score}\")"
   ]
  },
  {
   "cell_type": "markdown",
   "metadata": {},
   "source": [
    "#### focus on Slingshot"
   ]
  },
  {
   "cell_type": "code",
   "execution_count": 235,
   "metadata": {},
   "outputs": [],
   "source": [
    "_idx_model = 1\n",
    "\n",
    "estimated_clusters = df_clusters[_idx_model]\n",
    "estimated_progressions = df_progressions[_idx_model]  \n",
    "# ID order different from others; both assignment_true and estimated_clusters have been reindex by cell_ids \n",
    "estimated_progressions = estimated_progressions.set_index(\"cell_id\")  \n",
    "estimated_progressions = estimated_progressions.reindex(assignment_true.index.values)\n",
    "estimated_clusters = estimated_clusters.reindex(assignment_true.index.values)\n",
    "\n",
    "clusters_estimated = estimated_clusters['milestone_id'].values"
   ]
  },
  {
   "cell_type": "markdown",
   "metadata": {},
   "source": [
    "##### network"
   ]
  },
  {
   "cell_type": "code",
   "execution_count": 236,
   "metadata": {
    "scrolled": true
   },
   "outputs": [
    {
     "data": {
      "text/html": [
       "<div>\n",
       "<style scoped>\n",
       "    .dataframe tbody tr th:only-of-type {\n",
       "        vertical-align: middle;\n",
       "    }\n",
       "\n",
       "    .dataframe tbody tr th {\n",
       "        vertical-align: top;\n",
       "    }\n",
       "\n",
       "    .dataframe thead th {\n",
       "        text-align: right;\n",
       "    }\n",
       "</style>\n",
       "<table border=\"1\" class=\"dataframe\">\n",
       "  <thead>\n",
       "    <tr style=\"text-align: right;\">\n",
       "      <th></th>\n",
       "      <th>0</th>\n",
       "      <th>1</th>\n",
       "      <th>2</th>\n",
       "    </tr>\n",
       "  </thead>\n",
       "  <tbody>\n",
       "    <tr>\n",
       "      <th>0</th>\n",
       "      <td>b'4'</td>\n",
       "      <td>b'1'</td>\n",
       "      <td>32.583610</td>\n",
       "    </tr>\n",
       "    <tr>\n",
       "      <th>1</th>\n",
       "      <td>b'1'</td>\n",
       "      <td>b'2'</td>\n",
       "      <td>3.300554</td>\n",
       "    </tr>\n",
       "    <tr>\n",
       "      <th>2</th>\n",
       "      <td>b'1'</td>\n",
       "      <td>b'3'</td>\n",
       "      <td>25.476724</td>\n",
       "    </tr>\n",
       "  </tbody>\n",
       "</table>\n",
       "</div>"
      ],
      "text/plain": [
       "      0     1          2\n",
       "0  b'4'  b'1'  32.583610\n",
       "1  b'1'  b'2'   3.300554\n",
       "2  b'1'  b'3'  25.476724"
      ]
     },
     "execution_count": 236,
     "metadata": {},
     "output_type": "execute_result"
    }
   ],
   "source": [
    "df_networks[_idx_model]"
   ]
  },
  {
   "cell_type": "markdown",
   "metadata": {},
   "source": [
    "##### correspondence in clustering assignment, compared with true"
   ]
  },
  {
   "cell_type": "code",
   "execution_count": 237,
   "metadata": {},
   "outputs": [],
   "source": [
    "df_plot = pd.DataFrame([assignment_true['milestone_id'].values, clusters_estimated]).T\n",
    "df_plot.index = cell_ids\n",
    "df_plot.columns = ['true', 'pred']"
   ]
  },
  {
   "cell_type": "code",
   "execution_count": 238,
   "metadata": {},
   "outputs": [
    {
     "data": {
      "text/html": [
       "<div>\n",
       "<style scoped>\n",
       "    .dataframe tbody tr th:only-of-type {\n",
       "        vertical-align: middle;\n",
       "    }\n",
       "\n",
       "    .dataframe tbody tr th {\n",
       "        vertical-align: top;\n",
       "    }\n",
       "\n",
       "    .dataframe thead th {\n",
       "        text-align: right;\n",
       "    }\n",
       "</style>\n",
       "<table border=\"1\" class=\"dataframe\">\n",
       "  <thead>\n",
       "    <tr style=\"text-align: right;\">\n",
       "      <th>pred</th>\n",
       "      <th>1</th>\n",
       "      <th>2</th>\n",
       "      <th>3</th>\n",
       "      <th>4</th>\n",
       "    </tr>\n",
       "    <tr>\n",
       "      <th>true</th>\n",
       "      <th></th>\n",
       "      <th></th>\n",
       "      <th></th>\n",
       "      <th></th>\n",
       "    </tr>\n",
       "  </thead>\n",
       "  <tbody>\n",
       "    <tr>\n",
       "      <th>10W</th>\n",
       "      <td>25</td>\n",
       "      <td>6</td>\n",
       "      <td>0</td>\n",
       "      <td>10</td>\n",
       "    </tr>\n",
       "    <tr>\n",
       "      <th>11W</th>\n",
       "      <td>29</td>\n",
       "      <td>6</td>\n",
       "      <td>0</td>\n",
       "      <td>2</td>\n",
       "    </tr>\n",
       "    <tr>\n",
       "      <th>4W</th>\n",
       "      <td>8</td>\n",
       "      <td>8</td>\n",
       "      <td>0</td>\n",
       "      <td>6</td>\n",
       "    </tr>\n",
       "    <tr>\n",
       "      <th>7W</th>\n",
       "      <td>15</td>\n",
       "      <td>24</td>\n",
       "      <td>0</td>\n",
       "      <td>16</td>\n",
       "    </tr>\n",
       "    <tr>\n",
       "      <th>8W</th>\n",
       "      <td>3</td>\n",
       "      <td>24</td>\n",
       "      <td>0</td>\n",
       "      <td>10</td>\n",
       "    </tr>\n",
       "    <tr>\n",
       "      <th>F17W</th>\n",
       "      <td>1</td>\n",
       "      <td>0</td>\n",
       "      <td>28</td>\n",
       "      <td>4</td>\n",
       "    </tr>\n",
       "    <tr>\n",
       "      <th>M19W</th>\n",
       "      <td>18</td>\n",
       "      <td>29</td>\n",
       "      <td>0</td>\n",
       "      <td>0</td>\n",
       "    </tr>\n",
       "  </tbody>\n",
       "</table>\n",
       "</div>"
      ],
      "text/plain": [
       "pred   1   2   3   4\n",
       "true                \n",
       "10W   25   6   0  10\n",
       "11W   29   6   0   2\n",
       "4W     8   8   0   6\n",
       "7W    15  24   0  16\n",
       "8W     3  24   0  10\n",
       "F17W   1   0  28   4\n",
       "M19W  18  29   0   0"
      ]
     },
     "execution_count": 238,
     "metadata": {},
     "output_type": "execute_result"
    }
   ],
   "source": [
    "pd.crosstab(df_plot['true'], df_plot['pred'])"
   ]
  },
  {
   "cell_type": "markdown",
   "metadata": {},
   "source": [
    "#### number of cells assigned to different positions along an edge "
   ]
  },
  {
   "cell_type": "code",
   "execution_count": 191,
   "metadata": {},
   "outputs": [
    {
     "data": {
      "image/png": "[encoded data removed]",
      "text/plain": [
       "<Figure size 432x288 with 1 Axes>"
      ]
     },
     "metadata": {
      "needs_background": "light"
     },
     "output_type": "display_data"
    },
    {
     "data": {
      "image/png": "[encoded data removed]",
      "text/plain": [
       "<Figure size 432x288 with 1 Axes>"
      ]
     },
     "metadata": {
      "needs_background": "light"
     },
     "output_type": "display_data"
    },
    {
     "data": {
      "image/png": "[encoded data removed]",
      "text/plain": [
       "<Figure size 432x288 with 1 Axes>"
      ]
     },
     "metadata": {
      "needs_background": "light"
     },
     "output_type": "display_data"
    },
    {
     "data": {
      "image/png": "[encoded data removed]",
      "text/plain": [
       "<Figure size 432x288 with 1 Axes>"
      ]
     },
     "metadata": {
      "needs_background": "light"
     },
     "output_type": "display_data"
    },
    {
     "data": {
      "image/png": "[encoded data removed]",
      "text/plain": [
       "<Figure size 432x288 with 1 Axes>"
      ]
     },
     "metadata": {
      "needs_background": "light"
     },
     "output_type": "display_data"
    }
   ],
   "source": [
    "for n1, n2 in df_networks[_idx_model].iloc[:, :2].values:\n",
    "    condition = np.logical_and(estimated_progressions['from'] == n1, \n",
    "                          estimated_progressions['to'] == n2)\n",
    "    estimated_progressions[condition]['percentage'].hist()\n",
    "    plt.show()\n",
    "    plt.close()"
   ]
  },
  {
   "cell_type": "markdown",
   "metadata": {},
   "source": [
    "# Save input for TraSig\n",
    "\n",
    "* 1. expression\n",
    "* 2. estimated_clusters, estimated_progressions\n",
    "* 3. cells' s real time (if unknow, then put all as 0)"
   ]
  },
  {
   "cell_type": "code",
   "execution_count": 192,
   "metadata": {},
   "outputs": [],
   "source": [
    "preprocess = \"\"\n",
    "model_name = \"_ti_slingshot\"\n",
    "preprocess = \"\"\n",
    "condition = \"\"\n",
    "\n",
    "if preprocess != \"\":\n",
    "    _preprocess = \"_\" + preprocess\n",
    "else:\n",
    "    _preprocess = \"\"\n",
    "\n",
    "suffix = preprocess + model_name + condition"
   ]
  },
  {
   "cell_type": "code",
   "execution_count": 193,
   "metadata": {},
   "outputs": [],
   "source": [
    "output_path = \"trasig/input\""
   ]
  },
  {
   "cell_type": "markdown",
   "metadata": {},
   "source": [
    "## 1. save hid var of the model\n",
    "\n",
    "1. assigned path (edge)\n",
    "2. assigned time / progression on the edge "
   ]
  },
  {
   "cell_type": "code",
   "execution_count": 194,
   "metadata": {},
   "outputs": [],
   "source": [
    "estimated_progressions['from'] = [i.decode('utf-8') for i in estimated_progressions['from']] \n",
    "estimated_progressions['to'] = [i.decode('utf-8') for i in estimated_progressions['to']] \n",
    "estimated_progressions['edge'] = estimated_progressions['from'] + '_' + estimated_progressions['to'] "
   ]
  },
  {
   "cell_type": "code",
   "execution_count": 195,
   "metadata": {},
   "outputs": [],
   "source": [
    "edges = np.unique(estimated_progressions['edge'])\n",
    "\n",
    "edge2idx = {}\n",
    "for i, v in enumerate(edges):\n",
    "    edge2idx[v] = i"
   ]
  },
  {
   "cell_type": "code",
   "execution_count": 196,
   "metadata": {},
   "outputs": [
    {
     "data": {
      "text/plain": [
       "{'2_1': 0, '2_4': 1, '3_2': 2, '3_5': 3, '3_6': 4}"
      ]
     },
     "execution_count": 196,
     "metadata": {},
     "output_type": "execute_result"
    }
   ],
   "source": [
    "edge2idx"
   ]
  },
  {
   "cell_type": "code",
   "execution_count": 197,
   "metadata": {},
   "outputs": [],
   "source": [
    "estimated_progressions['idx_edge'] = estimated_progressions['edge'].replace(edge2idx)"
   ]
  },
  {
   "cell_type": "code",
   "execution_count": 198,
   "metadata": {},
   "outputs": [],
   "source": [
    "hid_var = {'cell_path': estimated_progressions['idx_edge'].values,\n",
    "          'cell_time': estimated_progressions['percentage'].values,\n",
    "          'cell_labels':assignment_true['milestone_id'].values} "
   ]
  },
  {
   "cell_type": "code",
   "execution_count": 199,
   "metadata": {},
   "outputs": [],
   "source": [
    "# original assignment\n",
    "filename = project + _preprocess + model_name + \"_it2_hid_var.pickle\"\n",
    "\n",
    "with open(os.path.join(output_path, filename), 'wb') as handle:\n",
    "    pickle.dump(hid_var, handle, protocol=pickle.HIGHEST_PROTOCOL)"
   ]
  },
  {
   "cell_type": "markdown",
   "metadata": {},
   "source": [
    "###### check percent of cluster in each edge"
   ]
  },
  {
   "cell_type": "code",
   "execution_count": 200,
   "metadata": {},
   "outputs": [],
   "source": [
    "estimated_progressions['label'] = assignment_true['milestone_id'].values\n",
    "estimated_progressions['cluster'] = clusters_estimated"
   ]
  },
  {
   "cell_type": "code",
   "execution_count": 201,
   "metadata": {},
   "outputs": [
    {
     "data": {
      "text/plain": [
       "3_2    14\n",
       "2_4    11\n",
       "2_1     6\n",
       "Name: edge, dtype: int64"
      ]
     },
     "execution_count": 201,
     "metadata": {},
     "output_type": "execute_result"
    }
   ],
   "source": [
    "estimated_progressions[estimated_progressions['cluster'] == '2']['edge'].value_counts()"
   ]
  },
  {
   "cell_type": "code",
   "execution_count": 203,
   "metadata": {
    "scrolled": false
   },
   "outputs": [
    {
     "name": "stdout",
     "output_type": "stream",
     "text": [
      "                                  cluster\n",
      "label                                    \n",
      "vα14 inkt thymocyte subset: NKT0       40\n",
      "vα14 inkt thymocyte subset: NKT2        8\n",
      "                                  cluster\n",
      "label                                    \n",
      "vα14 inkt thymocyte subset: NKT1       46\n",
      "vα14 inkt thymocyte subset: NKT2        9\n",
      "                                  cluster\n",
      "label                                    \n",
      "vα14 inkt thymocyte subset: NKT0        1\n",
      "vα14 inkt thymocyte subset: NKT2       22\n",
      "                                   cluster\n",
      "label                                     \n",
      "vα14 inkt thymocyte subset: NKT0         3\n",
      "vα14 inkt thymocyte subset: NKT17       42\n",
      "vα14 inkt thymocyte subset: NKT2         5\n",
      "                                   cluster\n",
      "label                                     \n",
      "vα14 inkt thymocyte subset: NKT0         1\n",
      "vα14 inkt thymocyte subset: NKT17        1\n",
      "vα14 inkt thymocyte subset: NKT2        19\n"
     ]
    }
   ],
   "source": [
    "for cur_edge in edges:\n",
    "    print(estimated_progressions[['label', 'edge', 'cluster']].groupby(['edge', 'label']).count().loc[cur_edge])"
   ]
  },
  {
   "cell_type": "markdown",
   "metadata": {},
   "source": [
    "## 2. subsetting expression data (to keep only ligand-receptors )\n",
    "\n",
    "1. the following code only depend on expression and ligand-receptor list "
   ]
  },
  {
   "cell_type": "code",
   "execution_count": 204,
   "metadata": {},
   "outputs": [],
   "source": [
    "input_path = \"trasig/test\""
   ]
  },
  {
   "cell_type": "code",
   "execution_count": 205,
   "metadata": {},
   "outputs": [],
   "source": [
    "# get interaction file (list of (ligand, receptor/target))\n",
    "list_type = 'ligand_receptor'\n",
    "\n",
    "if 'target' in list_type:\n",
    "    filename = list_type + '_interactions_99.95' + '.pickle'\n",
    "elif 'receptor' in list_type:\n",
    "    filename = list_type + '_used_in_MESSI.pickle'\n",
    "else:\n",
    "    filename = list_type + '_ligand_interactions.pickle'\n",
    "\n",
    "with open(os.path.join(input_path, filename), 'rb') as handle:\n",
    "    interaction_list = pickle.load(handle)\n",
    "    \n",
    "ligands_receptors = np.unique([i[0] for i in interaction_list] + [i[1] for i in interaction_list])\n",
    "\n",
    "# (optional) save ligand & receptors expression & genes names separately if not saved\n",
    "genes_upper = [g.upper() for g in genes]\n",
    "kepted_genes = list(set(genes_upper).intersection(set(ligands_receptors)))\n",
    "\n",
    "df = pd.DataFrame(expression)\n",
    "df.columns = genes_upper\n",
    "df.index = cell_ids\n",
    "\n",
    "df_sub = df[kepted_genes]\n",
    "\n",
    "filename = project + _preprocess + \"_lr.txt\"\n",
    "data_file = os.path.join(output_path, filename)\n",
    "df_sub.to_csv(data_file)\n",
    "\n",
    "\n",
    "# save filtered interactions \n",
    "filtered_interactions = []\n",
    "for i, j in interaction_list:\n",
    "    if i in kepted_genes and j in kepted_genes:\n",
    "        filtered_interactions.append((i, j))\n",
    " \n",
    "filename = list_type + \"_\" + project + _preprocess + \".pickle\"\n",
    "with open(os.path.join(output_path, filename), 'wb') as handle:\n",
    "    pickle.dump(filtered_interactions, handle, protocol=pickle.HIGHEST_PROTOCOL)\n"
   ]
  },
  {
   "cell_type": "markdown",
   "metadata": {},
   "source": [
    "## 3. save correspondence from time to paths"
   ]
  },
  {
   "cell_type": "code",
   "execution_count": 206,
   "metadata": {},
   "outputs": [],
   "source": [
    "from scipy import stats"
   ]
  },
  {
   "cell_type": "code",
   "execution_count": 207,
   "metadata": {},
   "outputs": [],
   "source": [
    "cell_ori_time = np.repeat(0, N)"
   ]
  },
  {
   "cell_type": "code",
   "execution_count": 208,
   "metadata": {},
   "outputs": [],
   "source": [
    "unique_days = np.unique(cell_ori_time)\n",
    "sorted_days = list(np.sort(unique_days)) \n",
    "cell_paths = np.unique(hid_var[\"cell_path\"])"
   ]
  },
  {
   "cell_type": "code",
   "execution_count": 209,
   "metadata": {},
   "outputs": [],
   "source": [
    "sampleT2path = dict.fromkeys(range(len(sorted_days)))  # USE index of sorted sampling time as key!  \n",
    "for k, v in sampleT2path.items():\n",
    "    sampleT2path[k] = []"
   ]
  },
  {
   "cell_type": "code",
   "execution_count": 210,
   "metadata": {
    "scrolled": true
   },
   "outputs": [
    {
     "name": "stdout",
     "output_type": "stream",
     "text": [
      "current path 0\n",
      "0 1.0\n",
      "current path 1\n",
      "0 1.0\n",
      "current path 2\n",
      "0 1.0\n",
      "current path 3\n",
      "0 1.0\n",
      "current path 4\n",
      "0 1.0\n"
     ]
    }
   ],
   "source": [
    "for i, cur_path in enumerate(cell_paths):\n",
    "    print(\"current path\", cur_path)\n",
    "    \n",
    "    # get data corresponding to a path\n",
    "    condition = hid_var[\"cell_path\"] == cur_path\n",
    "    cur_days = np.array(cell_ori_time)[condition]\n",
    "    \n",
    "    # get the sampling time for the majority cells \n",
    "    mode, count = stats.mode(cur_days)\n",
    "    print(mode[0], round(float(count[0])/len(cur_days), 2))\n",
    "    cur_sampleT = mode[0]\n",
    "    \n",
    "    # will use index instead of input time \n",
    "    sampleT2path[sorted_days.index(cur_sampleT)].append(cur_path)\n",
    "    "
   ]
  },
  {
   "cell_type": "code",
   "execution_count": 211,
   "metadata": {},
   "outputs": [],
   "source": [
    "# save the dictionary\n",
    "filename = 'sampling_time_per_path_' + project + suffix + '.pickle'\n",
    "\n",
    "with open(os.path.join(output_path, filename), 'wb') as handle:\n",
    "    pickle.dump(sampleT2path, handle, protocol=pickle.HIGHEST_PROTOCOL)"
   ]
  }
 ],
 "metadata": {
  "kernelspec": {
   "display_name": "Python [conda env:spatem] *",
   "language": "python",
   "name": "conda-env-spatem-py"
  },
  "language_info": {
   "codemirror_mode": {
    "name": "ipython",
    "version": 3
   },
   "file_extension": ".py",
   "mimetype": "text/x-python",
   "name": "python",
   "nbconvert_exporter": "python",
   "pygments_lexer": "ipython3",
   "version": "3.6.11"
  }
 },
 "nbformat": 4,
 "nbformat_minor": 2
}
