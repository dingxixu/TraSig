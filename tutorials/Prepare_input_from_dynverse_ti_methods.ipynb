{
 "cells": [
  {
   "cell_type": "markdown",
   "metadata": {},
   "source": [
    "# Get started\n",
    "\n",
    "In this tutorial, we will go through how to load trajectory outputs from dynverse, (briefly) explore the results and prepare for the inputs required by TraSig. We will assume you already know how to run trajectory inference methods on your data using dynverse (see [dynverse](https://dynverse.org/) for their tutorials). Note that in order to make use of their trajectory inference outputs, you need to add the following code to your R script to save the output: \n",
    "\n",
    "```R\n",
    "\n",
    "# run trajectory inference method \n",
    "model <- infer_trajectory(dataset, list(ti_slingshot()), give_priors = c(\"start_id\"), \n",
    "                            verbose = TRUE)\n",
    "\n",
    "# Add the following CODE to your R script\n",
    "library(dyncli) # this package is also provided by the dynverse group\n",
    "\n",
    "output_path <- \"../trajectory/output/\"\n",
    "output_filename <- paste0(output_path, \"output.h5\")\n",
    "write_output(model, output_filename)\n",
    "\n",
    "```\n",
    "\n",
    "After you obtain your trajectory inference result, follow the steps below to prepare the inputs for TraSig. We will use ti_slingshot (Slingshot in dynverse) on the dataset \"oligodendrocyte-differentiation-clusters_marques.rds\" as an example. \n",
    "\n",
    "Alternatively, you may run the script [prepare_inputs.py](prepare_inputs.py) directly to prepare the inputs for TraSig. This script includes all the key steps (un-optional steps) listed below. Please refer to [Obtain the inputs using the command-line tool](#1) and **Command-line tools** session in README.md for more details.\n",
    "\n",
    "**Table of Content**\n",
    "1. [(optional) Obtain the inputs using the command-line tool](#1)\n",
    "2. [Load expression and true labels](#2)\n",
    "3. [Load trajectory inference result](#3)\n",
    "4. [Explore and evaluate trajectory results](#4)\n",
    "5. [Prepare and save inputs for TraSig](#5)\n",
    "\n",
    "**Extra Package Requirements**\n",
    "* h5py >= 3.1.0 (required to load dynverse trajectory results)\n",
    "* rpy2 >= 3.3.6 (required to load dynverse datasets)\n",
    "* matplotlib-base >= 3.3.4 (required for plotting)\n",
    "* scikit-learn >= 0.23.2 (required for evaluating trajectory results)\n",
    "* scipy >= 1.5.4 (required to prepare sampling time input)"
   ]
  },
  {
   "cell_type": "code",
   "execution_count": 1,
   "metadata": {},
   "outputs": [],
   "source": [
    "import os, sys\n",
    "import argparse\n",
    "import time\n",
    "from os.path import exists\n",
    "import collections\n",
    "from typing import Iterable\n",
    "import pickle\n",
    "from collections import Counter\n",
    "import requests\n",
    "\n",
    "import pandas as pd\n",
    "import numpy as np\n",
    "from matplotlib import pyplot as plt\n",
    "import h5py \n",
    "import rpy2.robjects as robjects  "
   ]
  },
  {
   "cell_type": "code",
   "execution_count": 2,
   "metadata": {},
   "outputs": [],
   "source": [
    "# example data set \n",
    "project = \"oligodendrocyte-differentiation-clusters_marques\"\n",
    "\n",
    "# set the path to the inputs for the trajectory inference (e.g. expression)\n",
    "input_path = \"../trajectory/input\"\n",
    "\n",
    "# set the path to save the outputs of this script (place to save inputs for TraSig)\n",
    "output_path = \"../example/input\"\n",
    "\n",
    "# set the path to the trajectory output\n",
    "trajectory_filename = f\"../trajectory/output/output.h5\""
   ]
  },
  {
   "cell_type": "code",
   "execution_count": 3,
   "metadata": {},
   "outputs": [],
   "source": [
    "# set the names for output files \n",
    "preprocess = \"None\"\n",
    "model_name = \"ti_slingshot\"\n",
    "others = \"None\"\n",
    "\n",
    "if preprocess != \"None\":\n",
    "    _preprocess = f\"_{preprocess}\"\n",
    "else:\n",
    "    _preprocess = \"\"\n",
    "    \n",
    "if others == \"None\":\n",
    "    condition = \"\"\n",
    "        \n",
    "suffix = f\"{_preprocess}_{model_name}{condition}\""
   ]
  },
  {
   "cell_type": "markdown",
   "metadata": {},
   "source": [
    "# 1. (optional) Obtain the inputs using the command-line tool\n",
    "<a id=1></a>\n",
    "\n",
    "* You can run the following script to obtain all inputs for TraSig. \n",
    "* Alternatively, you may follow the break-downs starting from [Load expression](#2) to prepare for the inputs."
   ]
  },
  {
   "cell_type": "code",
   "execution_count": 1,
   "metadata": {},
   "outputs": [
    {
     "name": "stdout",
     "output_type": "stream",
     "text": [
      "Namespace(input='../trajectory/input', modelName='ti_slingshot', otherIdentifier='None', output='../example/input', preprocess='None', project='oligodendrocyte-differentiation-clusters_marques', trajectoryFile='../trajectory/output/output.h5')\n",
      "Edges and their new labels: {'1_2': 0, '1_3': 1, '2_4': 2, '4_5': 3}\n",
      "CPU times: user 92.4 ms, sys: 24.6 ms, total: 117 ms\n",
      "Wall time: 5.85 s\n"
     ]
    }
   ],
   "source": [
    "%time ! python prepare_inputs.py -i ../trajectory/input -o ../example/input -d oligodendrocyte-differentiation-clusters_marques -t ../trajectory/output/output.h5 -g None -b ti_slingshot -e None"
   ]
  },
  {
   "cell_type": "markdown",
   "metadata": {},
   "source": [
    "# 2. Load expression and true labels\n",
    "\n",
    "* While you can locate the expression file dynverse downloaded to run trajectory inference tools, you may also download it yourself from their repository. \n",
    "\n",
    "<a id=2></a>"
   ]
  },
  {
   "cell_type": "code",
   "execution_count": 4,
   "metadata": {},
   "outputs": [],
   "source": [
    "filepath = f\"{input_path}/{project}.rds\"\n",
    "\n",
    "if os.path.exists(filepath):\n",
    "    pass \n",
    "else:\n",
    "    url = f\"https://zenodo.org/record/1443566/files/real/silver/{project}.rds?download=1\"\n",
    "    r = requests.get(url)  \n",
    "\n",
    "    with open(filepath, 'wb') as f:\n",
    "        f.write(r.content)"
   ]
  },
  {
   "cell_type": "markdown",
   "metadata": {},
   "source": [
    "## 2.1 Load expression "
   ]
  },
  {
   "cell_type": "code",
   "execution_count": 5,
   "metadata": {},
   "outputs": [],
   "source": [
    "filepath = f\"{input_path}/{project}.rds\"\n",
    "\n",
    "from rpy2.robjects import pandas2ri\n",
    "pandas2ri.activate()\n",
    "\n",
    "readRDS = robjects.r['readRDS']\n",
    "df = readRDS(filepath)\n",
    "# df = pandas2ri.rpy2py_dataframe(df)\n",
    "data_keys = list(df.names)\n",
    "\n",
    "cell_ids = df[data_keys.index('cell_ids')]\n",
    "expression = df[data_keys.index('expression')]  \n",
    "genes = df[data_keys.index('feature_info')]['feature_id'].values\n",
    "\n",
    "N = len(cell_ids)  # number of cells \n",
    "G = len(genes)  # number of genes "
   ]
  },
  {
   "cell_type": "markdown",
   "metadata": {},
   "source": [
    "## 2.2 Load true trajectory and labels"
   ]
  },
  {
   "cell_type": "code",
   "execution_count": 6,
   "metadata": {},
   "outputs": [],
   "source": [
    "# true trajectory\n",
    "milestones_true = df[data_keys.index('milestone_ids')]\n",
    "network_true = df[data_keys.index('milestone_network')]\n",
    "M_true = len(milestones_true)\n",
    "\n",
    "# add node index; node index consistent with index in 'milestone_ids'\n",
    "# will use node index to present node from now on\n",
    "network_true['idx_from'] = [list(milestones_true).index(i) for i in network_true['from']]\n",
    "network_true['idx_to'] = [list(milestones_true).index(i) for i in network_true['to']]\n",
    "\n",
    "membership_true = df[data_keys.index('milestone_percentages')] \n",
    "# assign cells to the most probable node \n",
    "assignment_true = membership_true[membership_true.groupby(['cell_id'])['percentage'].transform(max) == membership_true['percentage']]\n",
    "assignment_true.set_index('cell_id', inplace=True)\n",
    "assignment_true = assignment_true.reindex(cell_ids)\n",
    "clusters_true = [list(milestones_true).index(c) for c in assignment_true['milestone_id'].values]"
   ]
  },
  {
   "cell_type": "markdown",
   "metadata": {},
   "source": [
    "# 3. Load trajectory inference result\n",
    "<a id=3></a>"
   ]
  },
  {
   "cell_type": "code",
   "execution_count": 7,
   "metadata": {
    "scrolled": true
   },
   "outputs": [],
   "source": [
    "f = h5py.File(trajectory_filename, 'r')\n",
    "\n",
    "# # Check what keys are \n",
    "# for key in f.keys():\n",
    "#     print(key) \n",
    "\n",
    "key = 'data'\n",
    "\n",
    "# Get the HDF5 group\n",
    "group = f[key]\n",
    "\n",
    "# #Checkout what keys are inside that group.\n",
    "# for key in group.keys():\n",
    "#     print(key)\n",
    "\n",
    "_percentages = group['milestone_percentages']\n",
    "_network = group['milestone_network']\n",
    "_progressions = group['progressions']\n",
    "\n",
    "# # Check what keys are  \n",
    "#  data.keys()\n",
    "#  data['data'].keys()\n",
    "\n",
    "_cell_ids = list(_percentages['data']['cell_id'])\n",
    "_cell_ids = [i.decode('utf-8') for i in _cell_ids]\n",
    "estimated_percentages = pd.DataFrame(zip(_cell_ids, list(_percentages['data']['milestone_id']), list(_percentages['data']['percentage'])))\n",
    "estimated_percentages.columns = ['cell_id', 'milestone_id', 'percentage']\n",
    "\n",
    "_cell_ids = list(_progressions['data']['cell_id'])\n",
    "_cell_ids = [i.decode('utf-8') for i in _cell_ids]\n",
    "estimated_progressions = pd.DataFrame(zip(_cell_ids, list(_progressions['data']['from']), list(_progressions['data']['to']), list(_progressions['data']['percentage'])))\n",
    "estimated_progressions.columns = ['cell_id', 'from', 'to' ,'percentage']\n",
    "estimated_progressions = estimated_progressions.set_index(\"cell_id\")  \n",
    "estimated_progressions = estimated_progressions.reindex(assignment_true.index.values)  # assignment_true already reindexed by cell_ids\n",
    "\n",
    "estimated_network = pd.DataFrame(pd.DataFrame(zip(list(_network['data']['from']), list(_network['data']['to']), list(_network['data']['length']))))\n",
    "estimated_clusters = estimated_percentages.loc[estimated_percentages.groupby([\"cell_id\"])[\"percentage\"].idxmax()].set_index('cell_id').reindex(cell_ids)\n",
    "estimated_clusters['milestone_id'] = [_c.decode(\"utf-8\") for _c in estimated_clusters['milestone_id']]"
   ]
  },
  {
   "cell_type": "markdown",
   "metadata": {},
   "source": [
    "# 4. Exploring and evaluating trajectory inference results (optional step)\n",
    "<a id=4></a>"
   ]
  },
  {
   "cell_type": "code",
   "execution_count": 8,
   "metadata": {},
   "outputs": [],
   "source": [
    "from sklearn.metrics.cluster import adjusted_rand_score\n",
    "from sklearn.metrics import f1_score\n",
    "from sklearn.preprocessing import LabelEncoder  "
   ]
  },
  {
   "cell_type": "code",
   "execution_count": 9,
   "metadata": {
    "scrolled": true
   },
   "outputs": [
    {
     "name": "stdout",
     "output_type": "stream",
     "text": [
      "ARI: 0.32195230612460585, F1: [0.35548173 0.00247219 0.         0.         0.        ]\n"
     ]
    }
   ],
   "source": [
    "clusters_estimated = estimated_clusters['milestone_id'].values\n",
    "le = LabelEncoder()\n",
    "clusters_estimated = le.fit_transform(clusters_estimated)\n",
    "\n",
    "_ari = adjusted_rand_score(clusters_true, clusters_estimated)\n",
    "_f1_score = f1_score(clusters_true, clusters_estimated, average = None)\n",
    "print(f\"ARI: {_ari}, F1: {_f1_score}\")"
   ]
  },
  {
   "cell_type": "markdown",
   "metadata": {},
   "source": [
    "##### predicted trajectory network"
   ]
  },
  {
   "cell_type": "code",
   "execution_count": 10,
   "metadata": {
    "scrolled": true
   },
   "outputs": [
    {
     "data": {
      "text/html": [
       "<div>\n",
       "<style scoped>\n",
       "    .dataframe tbody tr th:only-of-type {\n",
       "        vertical-align: middle;\n",
       "    }\n",
       "\n",
       "    .dataframe tbody tr th {\n",
       "        vertical-align: top;\n",
       "    }\n",
       "\n",
       "    .dataframe thead th {\n",
       "        text-align: right;\n",
       "    }\n",
       "</style>\n",
       "<table border=\"1\" class=\"dataframe\">\n",
       "  <thead>\n",
       "    <tr style=\"text-align: right;\">\n",
       "      <th></th>\n",
       "      <th>0</th>\n",
       "      <th>1</th>\n",
       "      <th>2</th>\n",
       "    </tr>\n",
       "  </thead>\n",
       "  <tbody>\n",
       "    <tr>\n",
       "      <th>0</th>\n",
       "      <td>b'1'</td>\n",
       "      <td>b'2'</td>\n",
       "      <td>21.655844</td>\n",
       "    </tr>\n",
       "    <tr>\n",
       "      <th>1</th>\n",
       "      <td>b'2'</td>\n",
       "      <td>b'4'</td>\n",
       "      <td>3.951270</td>\n",
       "    </tr>\n",
       "    <tr>\n",
       "      <th>2</th>\n",
       "      <td>b'4'</td>\n",
       "      <td>b'5'</td>\n",
       "      <td>2.467773</td>\n",
       "    </tr>\n",
       "    <tr>\n",
       "      <th>3</th>\n",
       "      <td>b'1'</td>\n",
       "      <td>b'3'</td>\n",
       "      <td>6.594278</td>\n",
       "    </tr>\n",
       "  </tbody>\n",
       "</table>\n",
       "</div>"
      ],
      "text/plain": [
       "      0     1          2\n",
       "0  b'1'  b'2'  21.655844\n",
       "1  b'2'  b'4'   3.951270\n",
       "2  b'4'  b'5'   2.467773\n",
       "3  b'1'  b'3'   6.594278"
      ]
     },
     "execution_count": 10,
     "metadata": {},
     "output_type": "execute_result"
    }
   ],
   "source": [
    "estimated_network"
   ]
  },
  {
   "cell_type": "markdown",
   "metadata": {},
   "source": [
    "##### evaluation of the correspondence in clustering assignment, compared with true"
   ]
  },
  {
   "cell_type": "code",
   "execution_count": 11,
   "metadata": {},
   "outputs": [],
   "source": [
    "df_plot = pd.DataFrame([assignment_true['milestone_id'].values, clusters_estimated]).T\n",
    "df_plot.index = cell_ids\n",
    "df_plot.columns = ['true', 'pred']"
   ]
  },
  {
   "cell_type": "code",
   "execution_count": 12,
   "metadata": {},
   "outputs": [
    {
     "data": {
      "text/html": [
       "<div>\n",
       "<style scoped>\n",
       "    .dataframe tbody tr th:only-of-type {\n",
       "        vertical-align: middle;\n",
       "    }\n",
       "\n",
       "    .dataframe tbody tr th {\n",
       "        vertical-align: top;\n",
       "    }\n",
       "\n",
       "    .dataframe thead th {\n",
       "        text-align: right;\n",
       "    }\n",
       "</style>\n",
       "<table border=\"1\" class=\"dataframe\">\n",
       "  <thead>\n",
       "    <tr style=\"text-align: right;\">\n",
       "      <th>pred</th>\n",
       "      <th>0</th>\n",
       "      <th>1</th>\n",
       "      <th>2</th>\n",
       "      <th>3</th>\n",
       "      <th>4</th>\n",
       "    </tr>\n",
       "    <tr>\n",
       "      <th>true</th>\n",
       "      <th></th>\n",
       "      <th></th>\n",
       "      <th></th>\n",
       "      <th></th>\n",
       "      <th></th>\n",
       "    </tr>\n",
       "  </thead>\n",
       "  <tbody>\n",
       "    <tr>\n",
       "      <th>COP</th>\n",
       "      <td>107</td>\n",
       "      <td>3</td>\n",
       "      <td>29</td>\n",
       "      <td>0</td>\n",
       "      <td>0</td>\n",
       "    </tr>\n",
       "    <tr>\n",
       "      <th>MOL</th>\n",
       "      <td>27</td>\n",
       "      <td>1100</td>\n",
       "      <td>0</td>\n",
       "      <td>1156</td>\n",
       "      <td>460</td>\n",
       "    </tr>\n",
       "    <tr>\n",
       "      <th>NFOL</th>\n",
       "      <td>42</td>\n",
       "      <td>2</td>\n",
       "      <td>462</td>\n",
       "      <td>0</td>\n",
       "      <td>2</td>\n",
       "    </tr>\n",
       "    <tr>\n",
       "      <th>OPC</th>\n",
       "      <td>287</td>\n",
       "      <td>5</td>\n",
       "      <td>3</td>\n",
       "      <td>0</td>\n",
       "      <td>0</td>\n",
       "    </tr>\n",
       "  </tbody>\n",
       "</table>\n",
       "</div>"
      ],
      "text/plain": [
       "pred    0     1    2     3    4\n",
       "true                           \n",
       "COP   107     3   29     0    0\n",
       "MOL    27  1100    0  1156  460\n",
       "NFOL   42     2  462     0    2\n",
       "OPC   287     5    3     0    0"
      ]
     },
     "execution_count": 12,
     "metadata": {},
     "output_type": "execute_result"
    }
   ],
   "source": [
    "pd.crosstab(df_plot['true'], df_plot['pred'])"
   ]
  },
  {
   "cell_type": "markdown",
   "metadata": {},
   "source": [
    "##### number of cells assigned to different positions along an edge "
   ]
  },
  {
   "cell_type": "code",
   "execution_count": 13,
   "metadata": {},
   "outputs": [
    {
     "data": {
      "image/png": "[encoded data removed]",
      "text/plain": [
       "<Figure size 432x288 with 1 Axes>"
      ]
     },
     "metadata": {
      "needs_background": "light"
     },
     "output_type": "display_data"
    },
    {
     "data": {
      "image/png": "[encoded data removed]",
      "text/plain": [
       "<Figure size 432x288 with 1 Axes>"
      ]
     },
     "metadata": {
      "needs_background": "light"
     },
     "output_type": "display_data"
    },
    {
     "data": {
      "image/png": "[encoded data removed]",
      "text/plain": [
       "<Figure size 432x288 with 1 Axes>"
      ]
     },
     "metadata": {
      "needs_background": "light"
     },
     "output_type": "display_data"
    },
    {
     "data": {
      "image/png": "[encoded data removed]",
      "text/plain": [
       "<Figure size 432x288 with 1 Axes>"
      ]
     },
     "metadata": {
      "needs_background": "light"
     },
     "output_type": "display_data"
    }
   ],
   "source": [
    "for n1, n2 in estimated_network.iloc[:, :2].values:\n",
    "    condition = np.logical_and(estimated_progressions['from'] == n1, \n",
    "                          estimated_progressions['to'] == n2)\n",
    "    estimated_progressions[condition]['percentage'].hist()\n",
    "    plt.show()\n",
    "    plt.close()"
   ]
  },
  {
   "cell_type": "markdown",
   "metadata": {},
   "source": [
    "# 5. Prepare and save input for TraSig\n",
    "<a id=5></a>\n",
    "\n",
    "* 1. filter expression to leave only ligands and receptors in database  \n",
    "* 2. save estimated clusters, progressions and true cell labels\n",
    "* 3. save cells' s real time (if unknow, then put all as 0)"
   ]
  },
  {
   "cell_type": "markdown",
   "metadata": {},
   "source": [
    "## 5.1 Save estimated cluster and progression time \n",
    "\n",
    "1. assigned path (edge)\n",
    "2. assigned time / progression on the edge \n",
    "3. cell type labels (ground truth)"
   ]
  },
  {
   "cell_type": "code",
   "execution_count": 14,
   "metadata": {},
   "outputs": [],
   "source": [
    "estimated_progressions['from'] = [i.decode('utf-8') for i in estimated_progressions['from']] \n",
    "estimated_progressions['to'] = [i.decode('utf-8') for i in estimated_progressions['to']] \n",
    "estimated_progressions['edge'] = estimated_progressions['from'] + '_' + estimated_progressions['to'] "
   ]
  },
  {
   "cell_type": "code",
   "execution_count": 15,
   "metadata": {},
   "outputs": [],
   "source": [
    "# assign unique label (integer) to each edge \n",
    "\n",
    "edges = np.unique(estimated_progressions['edge'])\n",
    "\n",
    "edge2idx = {}\n",
    "for i, v in enumerate(edges):\n",
    "    edge2idx[v] = i"
   ]
  },
  {
   "cell_type": "code",
   "execution_count": 16,
   "metadata": {
    "scrolled": true
   },
   "outputs": [
    {
     "data": {
      "text/plain": [
       "{'1_2': 0, '1_3': 1, '2_4': 2, '4_5': 3}"
      ]
     },
     "execution_count": 16,
     "metadata": {},
     "output_type": "execute_result"
    }
   ],
   "source": [
    "edge2idx"
   ]
  },
  {
   "cell_type": "code",
   "execution_count": 17,
   "metadata": {},
   "outputs": [],
   "source": [
    "estimated_progressions['idx_edge'] = estimated_progressions['edge'].replace(edge2idx)"
   ]
  },
  {
   "cell_type": "code",
   "execution_count": 18,
   "metadata": {},
   "outputs": [],
   "source": [
    "hid_var = {'cell_path': estimated_progressions['idx_edge'].values,\n",
    "          'cell_time': estimated_progressions['percentage'].values,\n",
    "          'cell_labels':assignment_true['milestone_id'].values} "
   ]
  },
  {
   "cell_type": "code",
   "execution_count": 19,
   "metadata": {},
   "outputs": [],
   "source": [
    "# save \n",
    "filename = f\"{project}{_preprocess}_{model_name}_it2_hid_var.pickle\"\n",
    "with open(os.path.join(output_path, filename), 'wb') as handle:\n",
    "    pickle.dump(hid_var, handle, protocol=pickle.HIGHEST_PROTOCOL)"
   ]
  },
  {
   "cell_type": "markdown",
   "metadata": {},
   "source": [
    "###### check percent of cell types (true) in each edge"
   ]
  },
  {
   "cell_type": "code",
   "execution_count": 20,
   "metadata": {},
   "outputs": [],
   "source": [
    "estimated_progressions['label'] = assignment_true['milestone_id'].values\n",
    "estimated_progressions['count'] = 0  # place holder"
   ]
  },
  {
   "cell_type": "code",
   "execution_count": 21,
   "metadata": {
    "scrolled": false
   },
   "outputs": [
    {
     "name": "stdout",
     "output_type": "stream",
     "text": [
      "Edge 1_2 with label 0\n",
      "       count\n",
      "label       \n",
      "COP       28\n",
      "MOL      678\n",
      "NFOL       3\n",
      "OPC      237\n",
      "\n",
      "\n",
      "Edge 1_3 with label 1\n",
      "       count\n",
      "label       \n",
      "COP      111\n",
      "NFOL     503\n",
      "OPC       58\n",
      "\n",
      "\n",
      "Edge 2_4 with label 2\n",
      "       count\n",
      "label       \n",
      "MOL      847\n",
      "\n",
      "\n",
      "Edge 4_5 with label 3\n",
      "       count\n",
      "label       \n",
      "MOL     1218\n",
      "NFOL       2\n",
      "\n",
      "\n"
     ]
    }
   ],
   "source": [
    "for cur_edge in edges:\n",
    "    print(f\"Edge {cur_edge} with label {edge2idx[cur_edge]}\")\n",
    "    print(estimated_progressions[['label', 'edge', 'count']].groupby(['edge', 'label']).count().loc[cur_edge])\n",
    "    print(\"\\n\")"
   ]
  },
  {
   "cell_type": "markdown",
   "metadata": {},
   "source": [
    "## 5.2 Subsetting expression data (to keep only ligand-receptors )\n",
    "\n",
    "1. the following take expression and ligand-receptor list (database) as input"
   ]
  },
  {
   "cell_type": "code",
   "execution_count": 22,
   "metadata": {},
   "outputs": [],
   "source": [
    "# get interaction file (list of (ligand, receptor))\n",
    "lr_list_path = \"../ligand_receptor_lists\"\n",
    "list_type = 'ligand_receptor'\n",
    "filename = f\"{list_type }_FANTOM.pickle\"\n",
    "\n",
    "with open(os.path.join(lr_list_path, filename), 'rb') as handle:\n",
    "    interaction_list = pickle.load(handle)\n",
    "    \n",
    "ligands_receptors = np.unique([i[0] for i in interaction_list] + [i[1] for i in interaction_list])\n",
    "\n",
    "# get list of genes identified as ligand or receptor \n",
    "genes_upper = [g.upper() for g in genes]\n",
    "kepted_genes = list(set(genes_upper).intersection(set(ligands_receptors)))\n",
    "\n",
    "df = pd.DataFrame(expression)\n",
    "df.columns = genes_upper\n",
    "df.index = cell_ids\n",
    "\n",
    "df_sub = df[kepted_genes]\n",
    "\n",
    "# save filtered expression \n",
    "filename = f\"{project}{_preprocess}_lr.txt\"\n",
    "data_file = os.path.join(output_path, filename)\n",
    "df_sub.to_csv(data_file)\n",
    "\n",
    "\n",
    "# save filtered interactions (list of (ligand, receptor) that are expressed)\n",
    "filtered_interactions = []\n",
    "for i, j in interaction_list:\n",
    "    if i in kepted_genes and j in kepted_genes:\n",
    "        filtered_interactions.append((i, j))\n",
    " \n",
    "\n",
    "filename = f\"{list_type}_{project}{_preprocess}.pickle\"\n",
    "with open(os.path.join(output_path, filename), 'wb') as handle:\n",
    "    pickle.dump(filtered_interactions, handle, protocol=pickle.HIGHEST_PROTOCOL)\n"
   ]
  },
  {
   "cell_type": "markdown",
   "metadata": {},
   "source": [
    "## 5.3 Save correspondence from sampling time to paths\n",
    "\n",
    "1. Note here cell_path refers to the edge where the cell is assigned to \n",
    "2. We will only find interactions between cells from the same sampling time and those from consecutive sampling times:\n",
    "    - i.e., between the ones from the same time, the ones from 1 sampling time before the ones from 1 sampling time after\n",
    "3. Given we don't know the sampling time for the example data, we set all sampling time as 0. For your own data, if you are not certain about sampling time, just assign the time for all cells as 0.\n",
    "4. If sampling time is known, rank the real time (e.g. day 0, day 17) first and assign the rank to the cell_ori_time variable below. \n",
    "    - e.g., for cells from two sampling time day 0 and day 17, assign those from day 0  as 0 and those from day 17 as 1. "
   ]
  },
  {
   "cell_type": "code",
   "execution_count": 23,
   "metadata": {},
   "outputs": [],
   "source": [
    "from scipy import stats"
   ]
  },
  {
   "cell_type": "code",
   "execution_count": 24,
   "metadata": {},
   "outputs": [],
   "source": [
    "cell_ori_time = np.repeat(0, N)  # put all cells at time 0 if sampling time unknow "
   ]
  },
  {
   "cell_type": "code",
   "execution_count": 25,
   "metadata": {},
   "outputs": [],
   "source": [
    "unique_days = np.unique(cell_ori_time)\n",
    "sorted_days = list(np.sort(unique_days)) \n",
    "cell_paths = np.unique(hid_var[\"cell_path\"])"
   ]
  },
  {
   "cell_type": "code",
   "execution_count": 26,
   "metadata": {},
   "outputs": [],
   "source": [
    "sampleT2path = dict.fromkeys(range(len(sorted_days)))  # use index of sorted sampling time as key\n",
    "for k, v in sampleT2path.items():\n",
    "    sampleT2path[k] = []"
   ]
  },
  {
   "cell_type": "code",
   "execution_count": 27,
   "metadata": {
    "scrolled": true
   },
   "outputs": [
    {
     "name": "stdout",
     "output_type": "stream",
     "text": [
      "current path (edge) 0\n",
      "Sampling time for the majority of cells: 0, making 1.0% percent\n",
      "current path (edge) 1\n",
      "Sampling time for the majority of cells: 0, making 1.0% percent\n",
      "current path (edge) 2\n",
      "Sampling time for the majority of cells: 0, making 1.0% percent\n",
      "current path (edge) 3\n",
      "Sampling time for the majority of cells: 0, making 1.0% percent\n"
     ]
    }
   ],
   "source": [
    "for i, cur_path in enumerate(cell_paths):\n",
    "    print(\"current path (edge)\", cur_path)\n",
    "    \n",
    "    # get data corresponding to a path\n",
    "    condition = hid_var[\"cell_path\"] == cur_path\n",
    "    cur_days = np.array(cell_ori_time)[condition]\n",
    "    \n",
    "    # get the sampling time for the majority cells \n",
    "    mode, count = stats.mode(cur_days)\n",
    "    print(f\"Sampling time for the majority of cells: {mode[0]}, making {round(float(count[0])/len(cur_days), 2)}% percent\")\n",
    "    cur_sampleT = mode[0]\n",
    "    \n",
    "    # will use index instead of input time \n",
    "    sampleT2path[sorted_days.index(cur_sampleT)].append(cur_path)\n",
    "    "
   ]
  },
  {
   "cell_type": "code",
   "execution_count": 28,
   "metadata": {},
   "outputs": [],
   "source": [
    "# save the dictionary\n",
    "filename = 'sampling_time_per_path_' + project + suffix + '.pickle'\n",
    "\n",
    "with open(os.path.join(output_path, filename), 'wb') as handle:\n",
    "    pickle.dump(sampleT2path, handle, protocol=pickle.HIGHEST_PROTOCOL)"
   ]
  }
 ],
 "metadata": {
  "kernelspec": {
   "display_name": "Python [conda env:spatem] *",
   "language": "python",
   "name": "conda-env-spatem-py"
  },
  "language_info": {
   "codemirror_mode": {
    "name": "ipython",
    "version": 3
   },
   "file_extension": ".py",
   "mimetype": "text/x-python",
   "name": "python",
   "nbconvert_exporter": "python",
   "pygments_lexer": "ipython3",
   "version": "3.6.11"
  }
 },
 "nbformat": 4,
 "nbformat_minor": 2
}
